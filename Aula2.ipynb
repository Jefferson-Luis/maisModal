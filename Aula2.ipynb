{
  "nbformat": 4,
  "nbformat_minor": 0,
  "metadata": {
    "colab": {
      "name": "Aula2.ipynb",
      "provenance": [],
      "authorship_tag": "ABX9TyMPZ/RBrRdIvIKGGZSYTj5j",
      "include_colab_link": true
    },
    "kernelspec": {
      "name": "python3",
      "display_name": "Python 3"
    },
    "language_info": {
      "name": "python"
    }
  },
  "cells": [
    {
      "cell_type": "markdown",
      "metadata": {
        "id": "view-in-github",
        "colab_type": "text"
      },
      "source": [
        "<a href=\"https://colab.research.google.com/github/Jefferson-Luis/maisModal/blob/main/Aula2.ipynb\" target=\"_parent\"><img src=\"https://colab.research.google.com/assets/colab-badge.svg\" alt=\"Open In Colab\"/></a>"
      ]
    },
    {
      "cell_type": "code",
      "execution_count": null,
      "metadata": {
        "id": "iLJ-f6a1tmxS"
      },
      "outputs": [],
      "source": [
        ""
      ]
    },
    {
      "cell_type": "markdown",
      "source": [
        "Na segunda aula do Módulo 01, iniciaremos nosso aprendizado sobre strings, um importante tipo de variável no Python. Vamos aprender algumas de suas propriedades, que facilitam muito o trabalho com texto no Python. Por fim, veremos elementos importantes para se trabalhar com dados, como listas, dicionários, tuplas e conjuntos.\n",
        "\n",
        "Faça parte da Comunidade de Dados do nosso curso no SLACK  👉 http://tiny.cc/EntreNaComunidade"
      ],
      "metadata": {
        "id": "Hp_tfaCOt4ae"
      }
    },
    {
      "cell_type": "markdown",
      "source": [
        ""
      ],
      "metadata": {
        "id": "BX4F3Clwv0k4"
      }
    },
    {
      "cell_type": "markdown",
      "source": [
        "## 4. Strings "
      ],
      "metadata": {
        "id": "mvSy62kzt5lp"
      }
    },
    {
      "cell_type": "markdown",
      "source": [
        "## 4.1 Indexação e 'slicing'(fatiamento)"
      ],
      "metadata": {
        "id": "X7DngF4-vvas"
      }
    },
    {
      "cell_type": "markdown",
      "source": [
        ""
      ],
      "metadata": {
        "id": "u9r-bHXcv0VU"
      }
    },
    {
      "cell_type": "code",
      "source": [
        "# Suponha que você viu a seguinte manchete\n",
        "manchete = \"PETR4 vai aumentar o preço da gasolina\"\n",
        "\n",
        "print(manchete)"
      ],
      "metadata": {
        "colab": {
          "base_uri": "https://localhost:8080/"
        },
        "id": "k32dbOguvUmX",
        "outputId": "ce60ee28-1eca-4847-ddb9-eb9ae0b040c5"
      },
      "execution_count": null,
      "outputs": [
        {
          "output_type": "stream",
          "name": "stdout",
          "text": [
            "PETR4 vai aumentar o preço da gasolina\n"
          ]
        }
      ]
    },
    {
      "cell_type": "code",
      "source": [
        "type(manchete)"
      ],
      "metadata": {
        "colab": {
          "base_uri": "https://localhost:8080/"
        },
        "id": "Y7zMz0BtwAc8",
        "outputId": "567f9662-8dbd-4a17-a8d4-b3935da452fe"
      },
      "execution_count": null,
      "outputs": [
        {
          "output_type": "execute_result",
          "data": {
            "text/plain": [
              "str"
            ]
          },
          "metadata": {},
          "execution_count": 3
        }
      ]
    },
    {
      "cell_type": "code",
      "source": [
        "# comprimento (lenght) do objeto, neste caso o número de caracteres\n",
        "\n",
        "len(manchete)"
      ],
      "metadata": {
        "colab": {
          "base_uri": "https://localhost:8080/"
        },
        "id": "b3rMPR0VwCvh",
        "outputId": "b6fe3340-4650-4915-935a-b6e593ca3813"
      },
      "execution_count": null,
      "outputs": [
        {
          "output_type": "execute_result",
          "data": {
            "text/plain": [
              "38"
            ]
          },
          "metadata": {},
          "execution_count": 5
        }
      ]
    },
    {
      "cell_type": "code",
      "source": [
        "# retorno apenas o caracter P\n",
        "\n",
        "manchete[0]"
      ],
      "metadata": {
        "colab": {
          "base_uri": "https://localhost:8080/",
          "height": 36
        },
        "id": "Mc3D3jlRwX4L",
        "outputId": "7114008d-91d1-4cd8-9229-8bc25c84c830"
      },
      "execution_count": null,
      "outputs": [
        {
          "output_type": "execute_result",
          "data": {
            "text/plain": [
              "'P'"
            ],
            "application/vnd.google.colaboratory.intrinsic+json": {
              "type": "string"
            }
          },
          "metadata": {},
          "execution_count": 6
        }
      ]
    },
    {
      "cell_type": "code",
      "source": [
        "# retorno apenas o caracter E\n",
        "manchete[1]"
      ],
      "metadata": {
        "colab": {
          "base_uri": "https://localhost:8080/",
          "height": 36
        },
        "id": "NdbrG7Z8wogR",
        "outputId": "ec2981c4-69f7-41c5-a798-4f9399ab67f3"
      },
      "execution_count": null,
      "outputs": [
        {
          "output_type": "execute_result",
          "data": {
            "text/plain": [
              "'E'"
            ],
            "application/vnd.google.colaboratory.intrinsic+json": {
              "type": "string"
            }
          },
          "metadata": {},
          "execution_count": 8
        }
      ]
    },
    {
      "cell_type": "code",
      "source": [
        "# retorno apenas o espaço vazio \n",
        "manchete[5]"
      ],
      "metadata": {
        "colab": {
          "base_uri": "https://localhost:8080/",
          "height": 36
        },
        "id": "7ueuvTT7wv0l",
        "outputId": "b02aac4c-755d-49f4-da1c-23b7b7a1743c"
      },
      "execution_count": null,
      "outputs": [
        {
          "output_type": "execute_result",
          "data": {
            "text/plain": [
              "' '"
            ],
            "application/vnd.google.colaboratory.intrinsic+json": {
              "type": "string"
            }
          },
          "metadata": {},
          "execution_count": 9
        }
      ]
    },
    {
      "cell_type": "code",
      "source": [
        "# retorno entre intervalos determinado\n",
        "# note que o primeiro número é inclusivo e o ultimo é excluisivo \n",
        "manchete[0: 5]"
      ],
      "metadata": {
        "colab": {
          "base_uri": "https://localhost:8080/",
          "height": 36
        },
        "id": "67iEhJWDxBT-",
        "outputId": "29a86c35-a3e9-440f-f9a1-682c641f0254"
      },
      "execution_count": null,
      "outputs": [
        {
          "output_type": "execute_result",
          "data": {
            "text/plain": [
              "'PETR4'"
            ],
            "application/vnd.google.colaboratory.intrinsic+json": {
              "type": "string"
            }
          },
          "metadata": {},
          "execution_count": 10
        }
      ]
    },
    {
      "cell_type": "code",
      "source": [
        "acao = manchete [0:5]"
      ],
      "metadata": {
        "id": "begLNOHsxqWa"
      },
      "execution_count": null,
      "outputs": []
    },
    {
      "cell_type": "code",
      "source": [
        "acao"
      ],
      "metadata": {
        "colab": {
          "base_uri": "https://localhost:8080/",
          "height": 36
        },
        "id": "sT4UihTWxvgD",
        "outputId": "0bb0a5ad-8ed5-4f71-e529-de84d6cdd303"
      },
      "execution_count": null,
      "outputs": [
        {
          "output_type": "execute_result",
          "data": {
            "text/plain": [
              "'PETR4'"
            ],
            "application/vnd.google.colaboratory.intrinsic+json": {
              "type": "string"
            }
          },
          "metadata": {},
          "execution_count": 12
        }
      ]
    },
    {
      "cell_type": "code",
      "source": [
        "# Do caracter 5 até o fim\n",
        "\n",
        "manchete[5:]"
      ],
      "metadata": {
        "colab": {
          "base_uri": "https://localhost:8080/",
          "height": 36
        },
        "id": "FKNFcc5qx2SW",
        "outputId": "ff7044b3-0838-42c1-e3e3-9b39391cd6fe"
      },
      "execution_count": null,
      "outputs": [
        {
          "output_type": "execute_result",
          "data": {
            "text/plain": [
              "' vai aumentar o preço da gasolina'"
            ],
            "application/vnd.google.colaboratory.intrinsic+json": {
              "type": "string"
            }
          },
          "metadata": {},
          "execution_count": 13
        }
      ]
    },
    {
      "cell_type": "code",
      "source": [
        "# Do inicio até o caractere 10( sen retirbar o 10)\n",
        "\n",
        "manchete[:10]"
      ],
      "metadata": {
        "colab": {
          "base_uri": "https://localhost:8080/",
          "height": 36
        },
        "id": "26G4vpKnyGAT",
        "outputId": "23b5813f-ff43-4cbc-f20c-7857c0767143"
      },
      "execution_count": null,
      "outputs": [
        {
          "output_type": "execute_result",
          "data": {
            "text/plain": [
              "'PETR4 vai '"
            ],
            "application/vnd.google.colaboratory.intrinsic+json": {
              "type": "string"
            }
          },
          "metadata": {},
          "execution_count": 14
        }
      ]
    },
    {
      "cell_type": "code",
      "source": [
        "# Do início até o fim\n",
        "manchete[:]"
      ],
      "metadata": {
        "colab": {
          "base_uri": "https://localhost:8080/",
          "height": 36
        },
        "id": "OnYyOAmfyQ7P",
        "outputId": "3a56812b-4a6e-4600-a9f2-a85584bbefb2"
      },
      "execution_count": null,
      "outputs": [
        {
          "output_type": "execute_result",
          "data": {
            "text/plain": [
              "'PETR4 vai aumentar o preço da gasolina'"
            ],
            "application/vnd.google.colaboratory.intrinsic+json": {
              "type": "string"
            }
          },
          "metadata": {},
          "execution_count": 15
        }
      ]
    },
    {
      "cell_type": "code",
      "source": [
        "# A operação de indexing ( indexação ) também pode começar de trá para frente. Basta utilizar índices negativos.\n",
        "\n",
        "manchete[ : -1]"
      ],
      "metadata": {
        "colab": {
          "base_uri": "https://localhost:8080/",
          "height": 36
        },
        "id": "b8IoGWHfyYky",
        "outputId": "81ff9efc-dcf1-4f53-eeaf-fcab15c575bd"
      },
      "execution_count": null,
      "outputs": [
        {
          "output_type": "execute_result",
          "data": {
            "text/plain": [
              "'PETR4 vai aumentar o preço da gasolin'"
            ],
            "application/vnd.google.colaboratory.intrinsic+json": {
              "type": "string"
            }
          },
          "metadata": {},
          "execution_count": 16
        }
      ]
    },
    {
      "cell_type": "code",
      "source": [
        "# excluindo a palavra gasolina de tras para frente\n",
        "manchete[ :-8]"
      ],
      "metadata": {
        "colab": {
          "base_uri": "https://localhost:8080/",
          "height": 36
        },
        "id": "pESmzaQZyZyd",
        "outputId": "0b3a5959-2cec-46ec-be5e-99d8fc5335d9"
      },
      "execution_count": null,
      "outputs": [
        {
          "output_type": "execute_result",
          "data": {
            "text/plain": [
              "'PETR4 vai aumentar o preço da '"
            ],
            "application/vnd.google.colaboratory.intrinsic+json": {
              "type": "string"
            }
          },
          "metadata": {},
          "execution_count": 17
        }
      ]
    },
    {
      "cell_type": "code",
      "source": [
        "# exclui começo e o fim\n",
        "manchete[ 5 : - 8]"
      ],
      "metadata": {
        "colab": {
          "base_uri": "https://localhost:8080/",
          "height": 36
        },
        "id": "mLtNhEQ-yaKj",
        "outputId": "cae41d03-398a-4b7d-b2e6-bab3c06c7dfc"
      },
      "execution_count": null,
      "outputs": [
        {
          "output_type": "execute_result",
          "data": {
            "text/plain": [
              "' vai aumentar o preço da '"
            ],
            "application/vnd.google.colaboratory.intrinsic+json": {
              "type": "string"
            }
          },
          "metadata": {},
          "execution_count": 18
        }
      ]
    },
    {
      "cell_type": "markdown",
      "source": [
        "Agora, temos um segundo ' : '\n",
        "Ele indica de quantos em quantos caracteres devemos percorrer o intervalo "
      ],
      "metadata": {
        "id": "JcevYcA8zdb-"
      }
    },
    {
      "cell_type": "code",
      "source": [
        "#  traz a manchete inteira\n",
        "manchete [:]"
      ],
      "metadata": {
        "colab": {
          "base_uri": "https://localhost:8080/",
          "height": 36
        },
        "id": "D1FQ0_pkztFu",
        "outputId": "42393aeb-1d10-481b-ba76-25121773f115"
      },
      "execution_count": null,
      "outputs": [
        {
          "output_type": "execute_result",
          "data": {
            "text/plain": [
              "'PETR4 vai aumentar o preço da gasolina'"
            ],
            "application/vnd.google.colaboratory.intrinsic+json": {
              "type": "string"
            }
          },
          "metadata": {},
          "execution_count": 19
        }
      ]
    },
    {
      "cell_type": "code",
      "source": [
        "# traz o intervalo entre os caracteres\n",
        "manchete [::2]"
      ],
      "metadata": {
        "colab": {
          "base_uri": "https://localhost:8080/",
          "height": 36
        },
        "id": "v-YBD8mjz2Vt",
        "outputId": "21634f3d-cda0-4f51-ed80-90587a108ceb"
      },
      "execution_count": null,
      "outputs": [
        {
          "output_type": "execute_result",
          "data": {
            "text/plain": [
              "'PT4viamna  rç agsln'"
            ],
            "application/vnd.google.colaboratory.intrinsic+json": {
              "type": "string"
            }
          },
          "metadata": {},
          "execution_count": 20
        }
      ]
    },
    {
      "cell_type": "code",
      "source": [
        "# inverter a frase \n",
        "# Neste caso, percorrer todo o intervalo, mas indo de -1 em -1 ( ou seja, de trás para frente)\n",
        "\n",
        "manchete[::-1]"
      ],
      "metadata": {
        "colab": {
          "base_uri": "https://localhost:8080/",
          "height": 36
        },
        "id": "WvryHwsq0KDG",
        "outputId": "51493e13-4810-47b5-9130-fc4f5845b829"
      },
      "execution_count": null,
      "outputs": [
        {
          "output_type": "execute_result",
          "data": {
            "text/plain": [
              "'anilosag ad oçerp o ratnemua iav 4RTEP'"
            ],
            "application/vnd.google.colaboratory.intrinsic+json": {
              "type": "string"
            }
          },
          "metadata": {},
          "execution_count": 21
        }
      ]
    },
    {
      "cell_type": "code",
      "source": [
        "acao[::-1]"
      ],
      "metadata": {
        "colab": {
          "base_uri": "https://localhost:8080/",
          "height": 36
        },
        "id": "inKSaNPl0bZz",
        "outputId": "87fb331a-540f-4310-be37-103523fc1a43"
      },
      "execution_count": null,
      "outputs": [
        {
          "output_type": "execute_result",
          "data": {
            "text/plain": [
              "'4RTEP'"
            ],
            "application/vnd.google.colaboratory.intrinsic+json": {
              "type": "string"
            }
          },
          "metadata": {},
          "execution_count": 22
        }
      ]
    },
    {
      "cell_type": "code",
      "source": [
        "manchete[::-1]"
      ],
      "metadata": {
        "colab": {
          "base_uri": "https://localhost:8080/",
          "height": 36
        },
        "id": "JYx1G19s0jxS",
        "outputId": "291c2880-61ce-4471-dc3e-0850357ad2c9"
      },
      "execution_count": null,
      "outputs": [
        {
          "output_type": "execute_result",
          "data": {
            "text/plain": [
              "'anilosag ad oçerp o ratnemua iav 4RTEP'"
            ],
            "application/vnd.google.colaboratory.intrinsic+json": {
              "type": "string"
            }
          },
          "metadata": {},
          "execution_count": 23
        }
      ]
    },
    {
      "cell_type": "code",
      "source": [
        "manchete[5::-1]"
      ],
      "metadata": {
        "colab": {
          "base_uri": "https://localhost:8080/",
          "height": 36
        },
        "id": "w65NBpA_0t6o",
        "outputId": "f6d5fae8-151f-48e9-fb44-b8f813137c38"
      },
      "execution_count": null,
      "outputs": [
        {
          "output_type": "execute_result",
          "data": {
            "text/plain": [
              "' 4RTEP'"
            ],
            "application/vnd.google.colaboratory.intrinsic+json": {
              "type": "string"
            }
          },
          "metadata": {},
          "execution_count": 24
        }
      ]
    },
    {
      "cell_type": "markdown",
      "source": [
        "string[a:b:c]\n",
        "\n",
        "[inicio,fim,intervalo] se for positivo | a incluso , b excluso -\n",
        "[fim,inicio,intervalo] se for negativo | \n"
      ],
      "metadata": {
        "id": "xtfXHTT81E_c"
      }
    },
    {
      "cell_type": "markdown",
      "source": [
        "Uma forma de definirmos as notações string[a:b:c] seria algo como : Execute um comando de fatiamento da string um intervalos de 'c', a partir de 'a' (inclusivo) até 'b' (não incluso). Se 'c' for negativo, contamos de trás para frente. Quando 'c' não está presente no código, o padrão é 1 ( i.e., fatiar de 1 em 1 caractere). Se 'a' não está presente, então você começa o mais distante possível na direção que você está contando (i.e., se 'c' é positivo, começa no primeiro caractere. Se 'c' é negativo, começa no último caractere). Se 'b' não está presente, então você termina o mais distante possível na direção que está contando(i.e., se'c' é positivo, termina no último caractere. Se 'c' é negativo, termina no primeiro caractere)."
      ],
      "metadata": {
        "id": "zjN-cvOO1Jse"
      }
    },
    {
      "cell_type": "markdown",
      "source": [
        "### 4.2. Propriedades das strings"
      ],
      "metadata": {
        "id": "BeINEUe_1xNM"
      }
    },
    {
      "cell_type": "markdown",
      "source": [
        "* Imutabilidade \n",
        "\n",
        "* Adição\n",
        "\n",
        "* Modificação de upper e lower case"
      ],
      "metadata": {
        "id": "WeDuWEOs3GU2"
      }
    },
    {
      "cell_type": "code",
      "source": [
        "manchete"
      ],
      "metadata": {
        "colab": {
          "base_uri": "https://localhost:8080/",
          "height": 36
        },
        "id": "BCQl8UAs3T13",
        "outputId": "a545c652-c117-49e8-fce7-225378bfb333"
      },
      "execution_count": null,
      "outputs": [
        {
          "output_type": "execute_result",
          "data": {
            "text/plain": [
              "'PETR4 vai aumentar o preço da gasolina'"
            ],
            "application/vnd.google.colaboratory.intrinsic+json": {
              "type": "string"
            }
          },
          "metadata": {},
          "execution_count": 25
        }
      ]
    },
    {
      "cell_type": "code",
      "source": [
        "manchete[4:5]"
      ],
      "metadata": {
        "colab": {
          "base_uri": "https://localhost:8080/",
          "height": 36
        },
        "id": "ILSeRsiY3acE",
        "outputId": "46b80bf7-0bfa-4c3d-8ada-fd04e7d93652"
      },
      "execution_count": null,
      "outputs": [
        {
          "output_type": "execute_result",
          "data": {
            "text/plain": [
              "'4'"
            ],
            "application/vnd.google.colaboratory.intrinsic+json": {
              "type": "string"
            }
          },
          "metadata": {},
          "execution_count": 26
        }
      ]
    },
    {
      "cell_type": "code",
      "source": [
        "# Output é um erro, já que a string é imutável , ou seja, não consigo substituir o '4' pelo '3' em 'PETRO4'\n",
        "manchete[4:5] = '3'"
      ],
      "metadata": {
        "colab": {
          "base_uri": "https://localhost:8080/",
          "height": 209
        },
        "id": "2fWvpBvy3oo-",
        "outputId": "6bf61cca-7026-46fc-8709-482c34878b21"
      },
      "execution_count": null,
      "outputs": [
        {
          "output_type": "error",
          "ename": "TypeError",
          "evalue": "ignored",
          "traceback": [
            "\u001b[0;31m---------------------------------------------------------------------------\u001b[0m",
            "\u001b[0;31mTypeError\u001b[0m                                 Traceback (most recent call last)",
            "\u001b[0;32m<ipython-input-27-7b2eeac5f9ef>\u001b[0m in \u001b[0;36m<module>\u001b[0;34m()\u001b[0m\n\u001b[1;32m      1\u001b[0m \u001b[0;31m# Output é um erro, já que a string é imutável , ou seja, não consigo substituir o '4' pelo '3' em 'PETRO4'\u001b[0m\u001b[0;34m\u001b[0m\u001b[0;34m\u001b[0m\u001b[0;34m\u001b[0m\u001b[0m\n\u001b[0;32m----> 2\u001b[0;31m \u001b[0mmanchete\u001b[0m\u001b[0;34m[\u001b[0m\u001b[0;36m4\u001b[0m\u001b[0;34m:\u001b[0m\u001b[0;36m5\u001b[0m\u001b[0;34m]\u001b[0m \u001b[0;34m=\u001b[0m \u001b[0;34m'3'\u001b[0m\u001b[0;34m\u001b[0m\u001b[0;34m\u001b[0m\u001b[0m\n\u001b[0m",
            "\u001b[0;31mTypeError\u001b[0m: 'str' object does not support item assignment"
          ]
        }
      ]
    },
    {
      "cell_type": "code",
      "source": [
        "# Da mesma forma, não conseguimos substituir mais de um caractere na string\n",
        "manchete[0:5] = 'VALE3'"
      ],
      "metadata": {
        "colab": {
          "base_uri": "https://localhost:8080/",
          "height": 172
        },
        "id": "fvXNTilF4AZQ",
        "outputId": "9fe2e3fc-e82b-4e40-a56c-5edf9a1b5ff1"
      },
      "execution_count": null,
      "outputs": [
        {
          "output_type": "error",
          "ename": "TypeError",
          "evalue": "ignored",
          "traceback": [
            "\u001b[0;31m---------------------------------------------------------------------------\u001b[0m",
            "\u001b[0;31mTypeError\u001b[0m                                 Traceback (most recent call last)",
            "\u001b[0;32m<ipython-input-29-d59cd3e532ac>\u001b[0m in \u001b[0;36m<module>\u001b[0;34m()\u001b[0m\n\u001b[0;32m----> 1\u001b[0;31m \u001b[0mmanchete\u001b[0m\u001b[0;34m[\u001b[0m\u001b[0;36m0\u001b[0m\u001b[0;34m:\u001b[0m\u001b[0;36m5\u001b[0m\u001b[0;34m]\u001b[0m \u001b[0;34m=\u001b[0m \u001b[0;34m'VALE3'\u001b[0m\u001b[0;34m\u001b[0m\u001b[0;34m\u001b[0m\u001b[0m\n\u001b[0m",
            "\u001b[0;31mTypeError\u001b[0m: 'str' object does not support item assignment"
          ]
        }
      ]
    },
    {
      "cell_type": "code",
      "source": [
        "manchete + ' por causa da alta do petróleo '"
      ],
      "metadata": {
        "colab": {
          "base_uri": "https://localhost:8080/",
          "height": 36
        },
        "id": "zZpvNm9A4ZZl",
        "outputId": "cdb291d2-7181-41f4-cbb5-709660c63b26"
      },
      "execution_count": null,
      "outputs": [
        {
          "output_type": "execute_result",
          "data": {
            "text/plain": [
              "'PETR4 vai aumentar o preço da gasolina por causa da alta do petróleo '"
            ],
            "application/vnd.google.colaboratory.intrinsic+json": {
              "type": "string"
            }
          },
          "metadata": {},
          "execution_count": 30
        }
      ]
    },
    {
      "cell_type": "code",
      "source": [
        "complemento = ' por causa da alta do petróleo '"
      ],
      "metadata": {
        "id": "2nSVemWn4F5T"
      },
      "execution_count": null,
      "outputs": []
    },
    {
      "cell_type": "code",
      "source": [
        "frase_completa = manchete + complemento "
      ],
      "metadata": {
        "id": "AYqEL07k42mZ"
      },
      "execution_count": null,
      "outputs": []
    },
    {
      "cell_type": "code",
      "source": [
        "frase_completa"
      ],
      "metadata": {
        "colab": {
          "base_uri": "https://localhost:8080/",
          "height": 36
        },
        "id": "QDKR1Pjw47uj",
        "outputId": "19acb1d5-7430-4ba2-e88e-cb6f1f027149"
      },
      "execution_count": null,
      "outputs": [
        {
          "output_type": "execute_result",
          "data": {
            "text/plain": [
              "'PETR4 vai aumentar o preço da gasolina por causa da alta do petróleo '"
            ],
            "application/vnd.google.colaboratory.intrinsic+json": {
              "type": "string"
            }
          },
          "metadata": {},
          "execution_count": 34
        }
      ]
    },
    {
      "cell_type": "code",
      "source": [
        "# Método lower: modifica todos os caracteres para minúsculos\n",
        "# frase_completa.lower()\n",
        "minusculo = frase_completa.lower()"
      ],
      "metadata": {
        "id": "uLxtnq-c5Ifu"
      },
      "execution_count": null,
      "outputs": []
    },
    {
      "cell_type": "code",
      "source": [
        "# Método upper: modifica todos os caracteres para maiusculos\n",
        "# frase_completa.upper()\n",
        "maiusculo = frase_completa.upper()"
      ],
      "metadata": {
        "id": "yQlFvjqD5RA3"
      },
      "execution_count": null,
      "outputs": []
    },
    {
      "cell_type": "code",
      "source": [
        "\n",
        "maiusculo"
      ],
      "metadata": {
        "colab": {
          "base_uri": "https://localhost:8080/",
          "height": 36
        },
        "id": "TCryvi4E5Xcb",
        "outputId": "52ddffda-a00b-4ba4-82dd-32fdcece7c94"
      },
      "execution_count": null,
      "outputs": [
        {
          "output_type": "execute_result",
          "data": {
            "text/plain": [
              "'PETR4 VAI AUMENTAR O PREÇO DA GASOLINA POR CAUSA DA ALTA DO PETRÓLEO '"
            ],
            "application/vnd.google.colaboratory.intrinsic+json": {
              "type": "string"
            }
          },
          "metadata": {},
          "execution_count": 44
        }
      ]
    },
    {
      "cell_type": "markdown",
      "source": [
        "Separar as palavras dentro de uma stringcom o método 'split'"
      ],
      "metadata": {
        "id": "LRpXKNIb6NSW"
      }
    },
    {
      "cell_type": "code",
      "source": [
        "frase_separada = frase_completa.split()"
      ],
      "metadata": {
        "id": "tg_l6PEY6UpQ"
      },
      "execution_count": null,
      "outputs": []
    },
    {
      "cell_type": "code",
      "source": [
        "frase_separada"
      ],
      "metadata": {
        "colab": {
          "base_uri": "https://localhost:8080/"
        },
        "id": "JW_vFmJ86bn3",
        "outputId": "65d7d4a8-0395-4c77-ee35-b59c03bdaf67"
      },
      "execution_count": null,
      "outputs": [
        {
          "output_type": "execute_result",
          "data": {
            "text/plain": [
              "['PETR4',\n",
              " 'vai',\n",
              " 'aumentar',\n",
              " 'o',\n",
              " 'preço',\n",
              " 'da',\n",
              " 'gasolina',\n",
              " 'por',\n",
              " 'causa',\n",
              " 'da',\n",
              " 'alta',\n",
              " 'do',\n",
              " 'petróleo']"
            ]
          },
          "metadata": {},
          "execution_count": 47
        }
      ]
    },
    {
      "cell_type": "code",
      "source": [
        "frase_separada[1]"
      ],
      "metadata": {
        "colab": {
          "base_uri": "https://localhost:8080/",
          "height": 36
        },
        "id": "r-rETQis6k-6",
        "outputId": "b9cea59c-53d1-4bf3-b3f3-d95d22e3d265"
      },
      "execution_count": null,
      "outputs": [
        {
          "output_type": "execute_result",
          "data": {
            "text/plain": [
              "'vai'"
            ],
            "application/vnd.google.colaboratory.intrinsic+json": {
              "type": "string"
            }
          },
          "metadata": {},
          "execution_count": 48
        }
      ]
    },
    {
      "cell_type": "code",
      "source": [
        "# quebrar a frase sempre que houver a letra  'a'\n",
        "\n",
        "frase_completa.split('a')"
      ],
      "metadata": {
        "colab": {
          "base_uri": "https://localhost:8080/"
        },
        "id": "6jI2blIv6vL0",
        "outputId": "439a602c-fbb4-45fd-bb67-2a25f65a9097"
      },
      "execution_count": null,
      "outputs": [
        {
          "output_type": "execute_result",
          "data": {
            "text/plain": [
              "['PETR4 v',\n",
              " 'i ',\n",
              " 'ument',\n",
              " 'r o preço d',\n",
              " ' g',\n",
              " 'solin',\n",
              " ' por c',\n",
              " 'us',\n",
              " ' d',\n",
              " ' ',\n",
              " 'lt',\n",
              " ' do petróleo ']"
            ]
          },
          "metadata": {},
          "execution_count": 51
        }
      ]
    },
    {
      "cell_type": "code",
      "source": [
        "frase_separada[1]"
      ],
      "metadata": {
        "colab": {
          "base_uri": "https://localhost:8080/",
          "height": 36
        },
        "id": "faKggcRT7JxO",
        "outputId": "9de36f2b-5453-4450-d092-1b34ec1bddfb"
      },
      "execution_count": null,
      "outputs": [
        {
          "output_type": "execute_result",
          "data": {
            "text/plain": [
              "'vai'"
            ],
            "application/vnd.google.colaboratory.intrinsic+json": {
              "type": "string"
            }
          },
          "metadata": {},
          "execution_count": 53
        }
      ]
    },
    {
      "cell_type": "code",
      "source": [
        "# Primeira palavra\n",
        "frase_separada[0]"
      ],
      "metadata": {
        "colab": {
          "base_uri": "https://localhost:8080/",
          "height": 36
        },
        "id": "prVQcQcj7FG6",
        "outputId": "926be387-8600-43f7-a567-d342ad83cdf1"
      },
      "execution_count": null,
      "outputs": [
        {
          "output_type": "execute_result",
          "data": {
            "text/plain": [
              "'PETR4'"
            ],
            "application/vnd.google.colaboratory.intrinsic+json": {
              "type": "string"
            }
          },
          "metadata": {},
          "execution_count": 52
        }
      ]
    },
    {
      "cell_type": "code",
      "source": [
        "# última palavra\n",
        "frase_separada[-1]"
      ],
      "metadata": {
        "colab": {
          "base_uri": "https://localhost:8080/",
          "height": 36
        },
        "id": "8dMEC6mY7Ot5",
        "outputId": "0f132482-1516-41ea-bee4-5d85eadfc910"
      },
      "execution_count": null,
      "outputs": [
        {
          "output_type": "execute_result",
          "data": {
            "text/plain": [
              "'petróleo'"
            ],
            "application/vnd.google.colaboratory.intrinsic+json": {
              "type": "string"
            }
          },
          "metadata": {},
          "execution_count": 54
        }
      ]
    },
    {
      "cell_type": "markdown",
      "source": [
        "## 5. Listas"
      ],
      "metadata": {
        "id": "VMhEDuUZ7V32"
      }
    },
    {
      "cell_type": "code",
      "source": [
        "# Listas são marcadas pelos colchetes e permitem a alocaçã de item ( ou elementos) repetidos\n",
        "# Estão entre os objetos mais fáceis de manipulação pois aceitam substituições, adições, repetições\n",
        "\n",
        "nomes = ['Andre', 'João', 'José']"
      ],
      "metadata": {
        "id": "PqaW2ge9754X"
      },
      "execution_count": null,
      "outputs": []
    },
    {
      "cell_type": "code",
      "source": [
        "nomes"
      ],
      "metadata": {
        "colab": {
          "base_uri": "https://localhost:8080/"
        },
        "id": "NCE-5-Vf8DLb",
        "outputId": "b9d8de60-be59-404b-a2e7-b20ee6e1bbc7"
      },
      "execution_count": null,
      "outputs": [
        {
          "output_type": "execute_result",
          "data": {
            "text/plain": [
              "['Andre', 'João', 'José']"
            ]
          },
          "metadata": {},
          "execution_count": 57
        }
      ]
    },
    {
      "cell_type": "code",
      "source": [
        "type(nomes)"
      ],
      "metadata": {
        "colab": {
          "base_uri": "https://localhost:8080/"
        },
        "id": "pLrMy4IR8F7a",
        "outputId": "28f879fe-13aa-4305-d470-1f208a0fb0e0"
      },
      "execution_count": null,
      "outputs": [
        {
          "output_type": "execute_result",
          "data": {
            "text/plain": [
              "list"
            ]
          },
          "metadata": {},
          "execution_count": 58
        }
      ]
    },
    {
      "cell_type": "code",
      "source": [
        "# Permitem misturar strings com números\n",
        "\n",
        "lista_misturada = ['André', 'João', 'jose', 30, 29, 28]"
      ],
      "metadata": {
        "id": "Li_qagCc8Kg-"
      },
      "execution_count": null,
      "outputs": []
    },
    {
      "cell_type": "code",
      "source": [
        "lista_misturada"
      ],
      "metadata": {
        "colab": {
          "base_uri": "https://localhost:8080/"
        },
        "id": "bofQKMCH8Ixw",
        "outputId": "2e700e09-01f7-4b98-bee0-aa5eb8153be0"
      },
      "execution_count": null,
      "outputs": [
        {
          "output_type": "execute_result",
          "data": {
            "text/plain": [
              "['André', 'João', 'jose', 30, 29, 28]"
            ]
          },
          "metadata": {},
          "execution_count": 60
        }
      ]
    },
    {
      "cell_type": "code",
      "source": [
        "type(lista_misturada)"
      ],
      "metadata": {
        "colab": {
          "base_uri": "https://localhost:8080/"
        },
        "id": "jYLP6m4v89T5",
        "outputId": "c2322691-a033-4aed-8a60-4669c294e8e2"
      },
      "execution_count": null,
      "outputs": [
        {
          "output_type": "execute_result",
          "data": {
            "text/plain": [
              "list"
            ]
          },
          "metadata": {},
          "execution_count": 61
        }
      ]
    },
    {
      "cell_type": "code",
      "source": [
        "lista_misturada[0]"
      ],
      "metadata": {
        "colab": {
          "base_uri": "https://localhost:8080/",
          "height": 36
        },
        "id": "Hg0lz3fs9ItS",
        "outputId": "57c30fdb-8eaf-4f98-ddf1-11ace6a46c46"
      },
      "execution_count": null,
      "outputs": [
        {
          "output_type": "execute_result",
          "data": {
            "text/plain": [
              "'André'"
            ],
            "application/vnd.google.colaboratory.intrinsic+json": {
              "type": "string"
            }
          },
          "metadata": {},
          "execution_count": 62
        }
      ]
    },
    {
      "cell_type": "code",
      "source": [
        "# Listas seguem o mesmo padrão de idexação e slicing. Cada elemento é separado por ','(vírgula)\n",
        "type(lista_misturada[0])"
      ],
      "metadata": {
        "colab": {
          "base_uri": "https://localhost:8080/"
        },
        "id": "uI1M_jKe9Owi",
        "outputId": "5b5d3ee2-b73b-4bf3-fb33-459f02956921"
      },
      "execution_count": null,
      "outputs": [
        {
          "output_type": "execute_result",
          "data": {
            "text/plain": [
              "str"
            ]
          },
          "metadata": {},
          "execution_count": 63
        }
      ]
    },
    {
      "cell_type": "code",
      "source": [
        "# Note que o elemento de índice '3' (30) é um número inteiro\n",
        "type(lista_misturada[3])"
      ],
      "metadata": {
        "colab": {
          "base_uri": "https://localhost:8080/"
        },
        "id": "ktevSJSd9WJz",
        "outputId": "35f8d9da-b60f-49ef-b5f3-d76326722c37"
      },
      "execution_count": null,
      "outputs": [
        {
          "output_type": "execute_result",
          "data": {
            "text/plain": [
              "int"
            ]
          },
          "metadata": {},
          "execution_count": 64
        }
      ]
    },
    {
      "cell_type": "code",
      "source": [
        "# Conseguimos criar novas strings resultantes de operações com outras strings, inclusive procedentes de listas\n",
        "'Os aprovados foram '+ nomes[0] + ' e ' + nomes[2]\n"
      ],
      "metadata": {
        "colab": {
          "base_uri": "https://localhost:8080/",
          "height": 36
        },
        "id": "OVG-u1BJ9aHi",
        "outputId": "c821c5c8-c31c-466e-8d1b-801e2e4fe436"
      },
      "execution_count": null,
      "outputs": [
        {
          "output_type": "execute_result",
          "data": {
            "text/plain": [
              "'Os aprovados foram Andre e José'"
            ],
            "application/vnd.google.colaboratory.intrinsic+json": {
              "type": "string"
            }
          },
          "metadata": {},
          "execution_count": 68
        }
      ]
    },
    {
      "cell_type": "code",
      "source": [
        "# Nesse caso, embora sejam números, estão entre aspas e portanto, são strings\n",
        "lista = ['28', '29', '30']\n",
        "\n",
        "lista[0]\n",
        "\n"
      ],
      "metadata": {
        "colab": {
          "base_uri": "https://localhost:8080/",
          "height": 36
        },
        "id": "XKc7Oc-s-kEr",
        "outputId": "a39f587b-eb1e-406b-a240-d82d16d9a4b4"
      },
      "execution_count": null,
      "outputs": [
        {
          "output_type": "execute_result",
          "data": {
            "text/plain": [
              "'28'"
            ],
            "application/vnd.google.colaboratory.intrinsic+json": {
              "type": "string"
            }
          },
          "metadata": {},
          "execution_count": 71
        }
      ]
    },
    {
      "cell_type": "code",
      "source": [
        "type(lista[0])"
      ],
      "metadata": {
        "colab": {
          "base_uri": "https://localhost:8080/"
        },
        "id": "co-yKZro_e8J",
        "outputId": "fc37e994-2ea8-49e7-db4c-eb273bec1625"
      },
      "execution_count": null,
      "outputs": [
        {
          "output_type": "execute_result",
          "data": {
            "text/plain": [
              "str"
            ]
          },
          "metadata": {},
          "execution_count": 72
        }
      ]
    },
    {
      "cell_type": "code",
      "source": [
        "'A minha idade é ' + lista[0]"
      ],
      "metadata": {
        "colab": {
          "base_uri": "https://localhost:8080/",
          "height": 36
        },
        "id": "LDE3sBxr_k-O",
        "outputId": "1d69b806-0d58-43d8-fe44-be6160aee7b6"
      },
      "execution_count": null,
      "outputs": [
        {
          "output_type": "execute_result",
          "data": {
            "text/plain": [
              "'A minha idade é 28'"
            ],
            "application/vnd.google.colaboratory.intrinsic+json": {
              "type": "string"
            }
          },
          "metadata": {},
          "execution_count": 73
        }
      ]
    },
    {
      "cell_type": "code",
      "source": [
        "lista[2]"
      ],
      "metadata": {
        "colab": {
          "base_uri": "https://localhost:8080/",
          "height": 36
        },
        "id": "NolCs6ct_rVH",
        "outputId": "97905a49-3bbd-4dde-b50b-3f49bb47895d"
      },
      "execution_count": null,
      "outputs": [
        {
          "output_type": "execute_result",
          "data": {
            "text/plain": [
              "'30'"
            ],
            "application/vnd.google.colaboratory.intrinsic+json": {
              "type": "string"
            }
          },
          "metadata": {},
          "execution_count": 74
        }
      ]
    },
    {
      "cell_type": "code",
      "source": [
        "# As listas são mutáveis, ao contrário das strings\n",
        "\n",
        "lista[2]= 31"
      ],
      "metadata": {
        "id": "cQIjK73C_v1m"
      },
      "execution_count": null,
      "outputs": []
    },
    {
      "cell_type": "code",
      "source": [
        "lista"
      ],
      "metadata": {
        "colab": {
          "base_uri": "https://localhost:8080/"
        },
        "id": "_cklq0wn_4NO",
        "outputId": "40770bcf-6693-4a83-9af0-124048b1bbc4"
      },
      "execution_count": null,
      "outputs": [
        {
          "output_type": "execute_result",
          "data": {
            "text/plain": [
              "['28', '29', 31]"
            ]
          },
          "metadata": {},
          "execution_count": 76
        }
      ]
    },
    {
      "cell_type": "code",
      "source": [
        "# Também são aditivas\n",
        "\n",
        "nova_lista = nomes + lista\n",
        "nova_lista"
      ],
      "metadata": {
        "colab": {
          "base_uri": "https://localhost:8080/"
        },
        "id": "useIan21__xx",
        "outputId": "b98b75e1-3687-42fa-90ec-81f0fd787b3a"
      },
      "execution_count": null,
      "outputs": [
        {
          "output_type": "execute_result",
          "data": {
            "text/plain": [
              "['Andre', 'João', 'José', '28', '29', 31]"
            ]
          },
          "metadata": {},
          "execution_count": 80
        }
      ]
    },
    {
      "cell_type": "code",
      "source": [
        "# Repetir a lista 2 vezes\n",
        "\n",
        "nova_lista * 2"
      ],
      "metadata": {
        "colab": {
          "base_uri": "https://localhost:8080/"
        },
        "id": "jMqY8tidASeo",
        "outputId": "ff5b2631-1aea-449a-cefb-0644cc208cc7"
      },
      "execution_count": null,
      "outputs": [
        {
          "output_type": "execute_result",
          "data": {
            "text/plain": [
              "['Andre',\n",
              " 'João',\n",
              " 'José',\n",
              " '28',\n",
              " '29',\n",
              " 31,\n",
              " 'Andre',\n",
              " 'João',\n",
              " 'José',\n",
              " '28',\n",
              " '29',\n",
              " 31]"
            ]
          },
          "metadata": {},
          "execution_count": 81
        }
      ]
    },
    {
      "cell_type": "code",
      "source": [
        "# Adicionar um novo elemento á lista. Método  'append'\n",
        "# Note que estou incluindo um item numérico (integer)\n",
        "lista.append(30)\n"
      ],
      "metadata": {
        "id": "KqgiSi9NAadN"
      },
      "execution_count": null,
      "outputs": []
    },
    {
      "cell_type": "code",
      "source": [
        "lista"
      ],
      "metadata": {
        "colab": {
          "base_uri": "https://localhost:8080/"
        },
        "id": "mVEBlVlGA5N6",
        "outputId": "1af0f026-d616-4b43-94d5-062347f476d7"
      },
      "execution_count": null,
      "outputs": [
        {
          "output_type": "execute_result",
          "data": {
            "text/plain": [
              "['28', '29', 31, 30, 30, 30]"
            ]
          },
          "metadata": {},
          "execution_count": 85
        }
      ]
    },
    {
      "cell_type": "code",
      "source": [
        "type(lista[3])"
      ],
      "metadata": {
        "colab": {
          "base_uri": "https://localhost:8080/"
        },
        "id": "NMGIkYEzA-Cd",
        "outputId": "f5a6e3d6-a134-4048-ff5d-e5286f003403"
      },
      "execution_count": null,
      "outputs": [
        {
          "output_type": "execute_result",
          "data": {
            "text/plain": [
              "int"
            ]
          },
          "metadata": {},
          "execution_count": 86
        }
      ]
    },
    {
      "cell_type": "code",
      "source": [
        "# Método 'pop' remove o último item \n",
        "\n",
        "lista.pop()"
      ],
      "metadata": {
        "colab": {
          "base_uri": "https://localhost:8080/"
        },
        "id": "3OnaY9h7BC1Z",
        "outputId": "e84b48ec-e3a0-4f54-d1cf-213c578f9966"
      },
      "execution_count": null,
      "outputs": [
        {
          "output_type": "execute_result",
          "data": {
            "text/plain": [
              "30"
            ]
          },
          "metadata": {},
          "execution_count": 87
        }
      ]
    },
    {
      "cell_type": "code",
      "source": [
        "lista"
      ],
      "metadata": {
        "colab": {
          "base_uri": "https://localhost:8080/"
        },
        "id": "KWMx47NJBPEN",
        "outputId": "801eb797-7189-4afb-882d-92fa26c7c19e"
      },
      "execution_count": null,
      "outputs": [
        {
          "output_type": "execute_result",
          "data": {
            "text/plain": [
              "['28', '29', 31, 30, 30]"
            ]
          },
          "metadata": {},
          "execution_count": 88
        }
      ]
    },
    {
      "cell_type": "code",
      "source": [
        "lista.pop()"
      ],
      "metadata": {
        "colab": {
          "base_uri": "https://localhost:8080/"
        },
        "id": "8WIi0yOnBSRe",
        "outputId": "ab137b2e-7e1b-458d-923e-0d2f27742b3e"
      },
      "execution_count": null,
      "outputs": [
        {
          "output_type": "execute_result",
          "data": {
            "text/plain": [
              "30"
            ]
          },
          "metadata": {},
          "execution_count": 89
        }
      ]
    },
    {
      "cell_type": "code",
      "source": [
        "lista"
      ],
      "metadata": {
        "colab": {
          "base_uri": "https://localhost:8080/"
        },
        "id": "w_XZXfXkBV5f",
        "outputId": "9dfd8e68-64bf-44fd-88f4-cabed367ec66"
      },
      "execution_count": null,
      "outputs": [
        {
          "output_type": "execute_result",
          "data": {
            "text/plain": [
              "['28', '29', 31, 30]"
            ]
          },
          "metadata": {},
          "execution_count": 90
        }
      ]
    },
    {
      "cell_type": "code",
      "source": [
        "# Lista apenas com itens numéricos\n",
        "\n",
        "idade = [4,54,65,34,29,78,38]"
      ],
      "metadata": {
        "id": "Q2XtvPq0BY1l"
      },
      "execution_count": null,
      "outputs": []
    },
    {
      "cell_type": "code",
      "source": [
        "# Método sort para classificar por ordem crescente ( no caso de strings será por ordem alfabética)\n",
        "\n",
        "idade.sort()"
      ],
      "metadata": {
        "id": "a9RtfXnfBmQ_"
      },
      "execution_count": null,
      "outputs": []
    },
    {
      "cell_type": "code",
      "source": [
        "idade"
      ],
      "metadata": {
        "colab": {
          "base_uri": "https://localhost:8080/"
        },
        "id": "9Ainam6TBz1D",
        "outputId": "95183e15-5126-4dea-be12-c9818948d5c1"
      },
      "execution_count": null,
      "outputs": [
        {
          "output_type": "execute_result",
          "data": {
            "text/plain": [
              "[4, 29, 34, 38, 54, 65, 78]"
            ]
          },
          "metadata": {},
          "execution_count": 93
        }
      ]
    },
    {
      "cell_type": "code",
      "source": [
        "# Método reverse  para classificar por ordem decrecente ( ordem alfabética invertida)\n",
        "\n",
        "idade.reverse()"
      ],
      "metadata": {
        "id": "PvuG_RyrB3Z1"
      },
      "execution_count": null,
      "outputs": []
    },
    {
      "cell_type": "code",
      "source": [
        "idade"
      ],
      "metadata": {
        "colab": {
          "base_uri": "https://localhost:8080/"
        },
        "id": "ZPU9nrMtCJWc",
        "outputId": "73c64052-f173-4334-f740-f5cb8f668f84"
      },
      "execution_count": null,
      "outputs": [
        {
          "output_type": "execute_result",
          "data": {
            "text/plain": [
              "[78, 65, 54, 38, 34, 29, 4]"
            ]
          },
          "metadata": {},
          "execution_count": 95
        }
      ]
    },
    {
      "cell_type": "code",
      "source": [
        "# Criar três listas\n",
        "lista1 = [0,1,2]\n",
        "lista2 = [4,5,6]\n",
        "lista3 = [7,8,9]\n",
        "\n"
      ],
      "metadata": {
        "id": "nirX4S9ACYVo"
      },
      "execution_count": null,
      "outputs": []
    },
    {
      "cell_type": "code",
      "source": [
        "# unir as três listas em uma lista só (lista de listas)\n",
        "\n",
        "matriz = [lista1, lista2, lista3]"
      ],
      "metadata": {
        "id": "2_OeMlX8Cq74"
      },
      "execution_count": null,
      "outputs": []
    },
    {
      "cell_type": "code",
      "source": [
        "matriz"
      ],
      "metadata": {
        "colab": {
          "base_uri": "https://localhost:8080/"
        },
        "id": "0QPste-CC3T6",
        "outputId": "f988a3e1-dd11-4d1c-d8f4-83f13c2935be"
      },
      "execution_count": null,
      "outputs": [
        {
          "output_type": "execute_result",
          "data": {
            "text/plain": [
              "[[0, 1, 2], [4, 5, 6], [7, 8, 9]]"
            ]
          },
          "metadata": {},
          "execution_count": 98
        }
      ]
    },
    {
      "cell_type": "code",
      "source": [
        "matriz[1]"
      ],
      "metadata": {
        "colab": {
          "base_uri": "https://localhost:8080/"
        },
        "id": "zSpxxtBvDA5g",
        "outputId": "09ac769f-f470-4163-ee2c-356def92d829"
      },
      "execution_count": null,
      "outputs": [
        {
          "output_type": "execute_result",
          "data": {
            "text/plain": [
              "[4, 5, 6]"
            ]
          },
          "metadata": {},
          "execution_count": 99
        }
      ]
    },
    {
      "cell_type": "code",
      "source": [
        "# Acessar a lista indexada como 1(segunda lista) e seu item 0 (primeiro item)\n",
        "matriz[1][0]"
      ],
      "metadata": {
        "colab": {
          "base_uri": "https://localhost:8080/"
        },
        "id": "aSy-cBvaDIgU",
        "outputId": "d55645ec-db2c-47c6-eae1-ba4ca8821d3f"
      },
      "execution_count": null,
      "outputs": [
        {
          "output_type": "execute_result",
          "data": {
            "text/plain": [
              "4"
            ]
          },
          "metadata": {},
          "execution_count": 101
        }
      ]
    },
    {
      "cell_type": "code",
      "source": [
        "# Primeira lista e primeiro elemento\n",
        "matriz [0][0]"
      ],
      "metadata": {
        "colab": {
          "base_uri": "https://localhost:8080/"
        },
        "id": "J4_q4mxgDdc3",
        "outputId": "9510ce87-2a54-4dc8-e963-7483ea0e0265"
      },
      "execution_count": null,
      "outputs": [
        {
          "output_type": "execute_result",
          "data": {
            "text/plain": [
              "0"
            ]
          },
          "metadata": {},
          "execution_count": 103
        }
      ]
    },
    {
      "cell_type": "markdown",
      "source": [
        "## 6. Dicionários"
      ],
      "metadata": {
        "id": "BE9UjEopDmCc"
      }
    },
    {
      "cell_type": "markdown",
      "source": [
        "Os dicionários representam uma estrutura de dados mais complexos que as listas, capazes de relacionar pares de dados (um dado que pode representar outro dado). Ao invés de colchetes, como as listas, são definidos pelas chaves. Em outras linguagens, poderia ser relacionado às \"arrays associativas\". A estrutura básica dos dicionários é \"{ key: value}\""
      ],
      "metadata": {
        "id": "W5zA6Up9E_ls"
      }
    },
    {
      "cell_type": "code",
      "source": [
        "precos = {'PETR4': 30, \n",
        "          'VALE3': 102, \n",
        "          'WEGE3': 34 }"
      ],
      "metadata": {
        "id": "6I6v47xQDuwh"
      },
      "execution_count": null,
      "outputs": []
    },
    {
      "cell_type": "code",
      "source": [
        "precos"
      ],
      "metadata": {
        "colab": {
          "base_uri": "https://localhost:8080/"
        },
        "id": "mr8GYm8SFhje",
        "outputId": "3218e1ff-60ec-4599-e0e9-44a4ab2f112f"
      },
      "execution_count": null,
      "outputs": [
        {
          "output_type": "execute_result",
          "data": {
            "text/plain": [
              "{'PETR4': 30, 'VALE3': 102, 'WEGE3': 34}"
            ]
          },
          "metadata": {},
          "execution_count": 105
        }
      ]
    },
    {
      "cell_type": "code",
      "source": [
        "type(precos)"
      ],
      "metadata": {
        "colab": {
          "base_uri": "https://localhost:8080/"
        },
        "id": "mMVmUw-FFnt4",
        "outputId": "70e91bad-b9e9-43dc-c438-5e25e0f039e9"
      },
      "execution_count": null,
      "outputs": [
        {
          "output_type": "execute_result",
          "data": {
            "text/plain": [
              "dict"
            ]
          },
          "metadata": {},
          "execution_count": 106
        }
      ]
    },
    {
      "cell_type": "code",
      "source": [
        "# retorna apenas as chaves (keys) do dicionário\n",
        "precos.keys()"
      ],
      "metadata": {
        "colab": {
          "base_uri": "https://localhost:8080/"
        },
        "id": "U1kwP1n7FuqA",
        "outputId": "3cdf92f8-43e3-48ad-d33a-1abe31989225"
      },
      "execution_count": null,
      "outputs": [
        {
          "output_type": "execute_result",
          "data": {
            "text/plain": [
              "dict_keys(['PETR4', 'VALE3', 'WEGE3'])"
            ]
          },
          "metadata": {},
          "execution_count": 108
        }
      ]
    },
    {
      "cell_type": "code",
      "source": [
        "# Lista apenas os valores do dicionários\n",
        "precos.values()"
      ],
      "metadata": {
        "colab": {
          "base_uri": "https://localhost:8080/"
        },
        "id": "fgK5gSjuF2T-",
        "outputId": "97988072-e081-437f-b165-0736eb6a6a41"
      },
      "execution_count": null,
      "outputs": [
        {
          "output_type": "execute_result",
          "data": {
            "text/plain": [
              "dict_values([30, 102, 34])"
            ]
          },
          "metadata": {},
          "execution_count": 109
        }
      ]
    },
    {
      "cell_type": "code",
      "source": [
        "# Listar os pares de itens do dicionários\n",
        "precos.items()"
      ],
      "metadata": {
        "colab": {
          "base_uri": "https://localhost:8080/"
        },
        "id": "B6y5NxMbGL9-",
        "outputId": "6ea81100-29e9-4ffa-91ee-50c9b58754f5"
      },
      "execution_count": null,
      "outputs": [
        {
          "output_type": "execute_result",
          "data": {
            "text/plain": [
              "dict_items([('PETR4', 30), ('VALE3', 102), ('WEGE3', 34)])"
            ]
          },
          "metadata": {},
          "execution_count": 111
        }
      ]
    },
    {
      "cell_type": "code",
      "source": [
        "# Indexação é feito pelas chaves e não pelos índices numéricos ( como listas)\n",
        "precos['PETR4']"
      ],
      "metadata": {
        "colab": {
          "base_uri": "https://localhost:8080/"
        },
        "id": "Z09OwtxTGegG",
        "outputId": "a97ac20c-b100-46ca-e404-1f7111440f03"
      },
      "execution_count": null,
      "outputs": [
        {
          "output_type": "execute_result",
          "data": {
            "text/plain": [
              "30"
            ]
          },
          "metadata": {},
          "execution_count": 114
        }
      ]
    },
    {
      "cell_type": "code",
      "source": [
        "precos['VALE3']"
      ],
      "metadata": {
        "colab": {
          "base_uri": "https://localhost:8080/"
        },
        "id": "javK41gaGzQk",
        "outputId": "b4537c9f-9819-48ba-f0cc-393c82dee763"
      },
      "execution_count": null,
      "outputs": [
        {
          "output_type": "execute_result",
          "data": {
            "text/plain": [
              "102"
            ]
          },
          "metadata": {},
          "execution_count": 115
        }
      ]
    },
    {
      "cell_type": "code",
      "source": [
        "# Os dicionários são bem flexíveis quanto aos 'values'.  Poderia ser uma string, uma lista.....\n",
        "\n",
        "precos = {'PETR4' : \"30\",\n",
        "          'VALE3' : [102,103,104,105],\n",
        "          'WEGE3' : 34}\n",
        "\n"
      ],
      "metadata": {
        "id": "MoLS5WMvG6dB"
      },
      "execution_count": null,
      "outputs": []
    },
    {
      "cell_type": "code",
      "source": [
        "precos['PETR4']"
      ],
      "metadata": {
        "colab": {
          "base_uri": "https://localhost:8080/",
          "height": 36
        },
        "id": "UeYBihSlHnUQ",
        "outputId": "a1c4570b-fc7e-4237-e0cb-79d60c9a53aa"
      },
      "execution_count": null,
      "outputs": [
        {
          "output_type": "execute_result",
          "data": {
            "text/plain": [
              "'30'"
            ],
            "application/vnd.google.colaboratory.intrinsic+json": {
              "type": "string"
            }
          },
          "metadata": {},
          "execution_count": 122
        }
      ]
    },
    {
      "cell_type": "code",
      "source": [
        "precos['VALE3']"
      ],
      "metadata": {
        "colab": {
          "base_uri": "https://localhost:8080/"
        },
        "id": "yNzsvXuwHvZq",
        "outputId": "6a0512b1-9996-4ddb-dc58-490e5ffea0e9"
      },
      "execution_count": null,
      "outputs": [
        {
          "output_type": "execute_result",
          "data": {
            "text/plain": [
              "[102, 103, 104, 105]"
            ]
          },
          "metadata": {},
          "execution_count": 118
        }
      ]
    },
    {
      "cell_type": "code",
      "source": [
        "# São mutáveis, assim com as listas\n",
        "\n",
        "precos['WEGE3'] = 30"
      ],
      "metadata": {
        "id": "g94hkWx4H2a0"
      },
      "execution_count": null,
      "outputs": []
    },
    {
      "cell_type": "code",
      "source": [
        "precos"
      ],
      "metadata": {
        "colab": {
          "base_uri": "https://localhost:8080/"
        },
        "id": "r7Ibk-wbIFP8",
        "outputId": "8115b09e-9738-46a4-d886-d3b02577d571"
      },
      "execution_count": null,
      "outputs": [
        {
          "output_type": "execute_result",
          "data": {
            "text/plain": [
              "{'PETR4': '30', 'VALE3': [102, 103, 104, 105], 'WEGE3': 30}"
            ]
          },
          "metadata": {},
          "execution_count": 124
        }
      ]
    },
    {
      "cell_type": "code",
      "source": [
        "# Também permitem a adição de novos itens\n",
        "\n",
        "precos['GOAU4'] = 20 "
      ],
      "metadata": {
        "id": "FqUy7SgQITmh"
      },
      "execution_count": null,
      "outputs": []
    },
    {
      "cell_type": "code",
      "source": [
        "precos"
      ],
      "metadata": {
        "colab": {
          "base_uri": "https://localhost:8080/"
        },
        "id": "1bvMqfDkIg-P",
        "outputId": "88376985-660d-4a6e-fcdd-58aa3071ecc7"
      },
      "execution_count": null,
      "outputs": [
        {
          "output_type": "execute_result",
          "data": {
            "text/plain": [
              "{'GOAU4': 20, 'PETR4': '30', 'VALE3': [102, 103, 104, 105], 'WEGE3': 30}"
            ]
          },
          "metadata": {},
          "execution_count": 127
        }
      ]
    },
    {
      "cell_type": "code",
      "source": [
        "# criar lista vazia\n",
        "\n",
        "lista = []"
      ],
      "metadata": {
        "id": "PL2RHoxDIqNQ"
      },
      "execution_count": null,
      "outputs": []
    },
    {
      "cell_type": "code",
      "source": [
        "# criar dicionario vazio\n",
        "dicionarios = {}"
      ],
      "metadata": {
        "id": "6qFl-UWfIueI"
      },
      "execution_count": null,
      "outputs": []
    },
    {
      "cell_type": "markdown",
      "source": [
        "## 7. Tuplas"
      ],
      "metadata": {
        "id": "0UAgmomzI9Dw"
      }
    },
    {
      "cell_type": "markdown",
      "source": [
        "As tuplas são criadas utilizando parênteses. Indexação e slicing similares aos de strings e listas. Estão entre as estruturas de dados  mais simples ( ex., são imutáveis e não permitem adições), porém com pouca flexibilidade."
      ],
      "metadata": {
        "id": "feQu1Y51JMLk"
      }
    },
    {
      "cell_type": "code",
      "source": [
        "# tupla vazia\n",
        "tupla = ()"
      ],
      "metadata": {
        "id": "tyIBb-D-JB1P"
      },
      "execution_count": null,
      "outputs": []
    },
    {
      "cell_type": "code",
      "source": [
        "# Exemplo de uma tupla (permite valores repetidos )\n",
        "tupla1 =(1,1,2,2,4,6,15)"
      ],
      "metadata": {
        "id": "gy6RGDKFJF7f"
      },
      "execution_count": null,
      "outputs": []
    },
    {
      "cell_type": "code",
      "source": [
        "tupla1"
      ],
      "metadata": {
        "colab": {
          "base_uri": "https://localhost:8080/"
        },
        "id": "G6KOIyVUJun7",
        "outputId": "dfa40a62-ba1a-4e17-8cc0-5cc9efe04223"
      },
      "execution_count": null,
      "outputs": [
        {
          "output_type": "execute_result",
          "data": {
            "text/plain": [
              "(1, 1, 2, 2, 4, 6, 15)"
            ]
          },
          "metadata": {},
          "execution_count": 133
        }
      ]
    },
    {
      "cell_type": "code",
      "source": [
        "type(tupla1)"
      ],
      "metadata": {
        "colab": {
          "base_uri": "https://localhost:8080/"
        },
        "id": "4nxmpuKRKCw9",
        "outputId": "ac5c1bc6-29b3-4785-9e7e-76676f6d7fe6"
      },
      "execution_count": null,
      "outputs": [
        {
          "output_type": "execute_result",
          "data": {
            "text/plain": [
              "tuple"
            ]
          },
          "metadata": {},
          "execution_count": 134
        }
      ]
    },
    {
      "cell_type": "code",
      "source": [
        "# Utiliza a função len para ver o comprimento\n",
        "# Comprimento da tupla = número de itens\n",
        "\n",
        "len(tupla1)"
      ],
      "metadata": {
        "colab": {
          "base_uri": "https://localhost:8080/"
        },
        "id": "FGYrYE9iKHf0",
        "outputId": "22f856f3-83c2-4d71-b373-c68326f54ec0"
      },
      "execution_count": null,
      "outputs": [
        {
          "output_type": "execute_result",
          "data": {
            "text/plain": [
              "7"
            ]
          },
          "metadata": {},
          "execution_count": 136
        }
      ]
    },
    {
      "cell_type": "code",
      "source": [
        "# Indexação similar a listas\n",
        "\n",
        "tupla1[0]"
      ],
      "metadata": {
        "colab": {
          "base_uri": "https://localhost:8080/"
        },
        "id": "EJqDtWDLKWb4",
        "outputId": "d5535609-fcd9-4ff1-e8ad-7ac4537f7d85"
      },
      "execution_count": null,
      "outputs": [
        {
          "output_type": "execute_result",
          "data": {
            "text/plain": [
              "1"
            ]
          },
          "metadata": {},
          "execution_count": 137
        }
      ]
    },
    {
      "cell_type": "code",
      "source": [
        "# Fatiamento similar às listas e strings\n",
        "\n",
        "tupla1[2:6]"
      ],
      "metadata": {
        "colab": {
          "base_uri": "https://localhost:8080/"
        },
        "id": "XVsMRIyiKgjI",
        "outputId": "c0a95d14-c46c-4e90-b09c-48139cfd715c"
      },
      "execution_count": null,
      "outputs": [
        {
          "output_type": "execute_result",
          "data": {
            "text/plain": [
              "(2, 2, 4, 6)"
            ]
          },
          "metadata": {},
          "execution_count": 138
        }
      ]
    },
    {
      "cell_type": "code",
      "source": [
        "# posição de um elemento \n",
        "# Tuplas possuem alguns métodos simples, como determinar o índice referente a um item específico (itens repetidos retornarão o índice do primeiro item)\n",
        "tupla1.index(15)"
      ],
      "metadata": {
        "colab": {
          "base_uri": "https://localhost:8080/"
        },
        "id": "Sxy-igvrKv6u",
        "outputId": "6e42dcb4-2cc6-4324-c8c1-c28ae6087a88"
      },
      "execution_count": null,
      "outputs": [
        {
          "output_type": "execute_result",
          "data": {
            "text/plain": [
              "6"
            ]
          },
          "metadata": {},
          "execution_count": 142
        }
      ]
    },
    {
      "cell_type": "code",
      "source": [
        "tupla1.index(1)"
      ],
      "metadata": {
        "colab": {
          "base_uri": "https://localhost:8080/"
        },
        "id": "y1fHdV0vK740",
        "outputId": "7753d070-1d34-4917-c395-82f0cea87b9c"
      },
      "execution_count": null,
      "outputs": [
        {
          "output_type": "execute_result",
          "data": {
            "text/plain": [
              "0"
            ]
          },
          "metadata": {},
          "execution_count": 140
        }
      ]
    },
    {
      "cell_type": "code",
      "source": [
        "# Método contagem de intens iguais \n",
        "\n",
        "tupla1.count(1)"
      ],
      "metadata": {
        "colab": {
          "base_uri": "https://localhost:8080/"
        },
        "id": "qHOX9RaPLYVT",
        "outputId": "152f0f2b-f2e4-4b46-9a10-c15a7918057b"
      },
      "execution_count": null,
      "outputs": [
        {
          "output_type": "execute_result",
          "data": {
            "text/plain": [
              "2"
            ]
          },
          "metadata": {},
          "execution_count": 143
        }
      ]
    },
    {
      "cell_type": "code",
      "source": [
        "# Elas são imutáveis \n",
        "# este comando vai resulta em erro\n",
        "\n",
        "tupla1[0] = 3"
      ],
      "metadata": {
        "colab": {
          "base_uri": "https://localhost:8080/",
          "height": 209
        },
        "id": "Qlt70mffLnMI",
        "outputId": "68de386e-d327-481a-ac5d-7cd111bacea0"
      },
      "execution_count": null,
      "outputs": [
        {
          "output_type": "error",
          "ename": "TypeError",
          "evalue": "ignored",
          "traceback": [
            "\u001b[0;31m---------------------------------------------------------------------------\u001b[0m",
            "\u001b[0;31mTypeError\u001b[0m                                 Traceback (most recent call last)",
            "\u001b[0;32m<ipython-input-144-dc6a08b04006>\u001b[0m in \u001b[0;36m<module>\u001b[0;34m()\u001b[0m\n\u001b[1;32m      1\u001b[0m \u001b[0;31m# Elas são imutáveis\u001b[0m\u001b[0;34m\u001b[0m\u001b[0;34m\u001b[0m\u001b[0;34m\u001b[0m\u001b[0m\n\u001b[1;32m      2\u001b[0m \u001b[0;34m\u001b[0m\u001b[0m\n\u001b[0;32m----> 3\u001b[0;31m \u001b[0mtupla1\u001b[0m\u001b[0;34m[\u001b[0m\u001b[0;36m0\u001b[0m\u001b[0;34m]\u001b[0m \u001b[0;34m=\u001b[0m \u001b[0;36m3\u001b[0m\u001b[0;34m\u001b[0m\u001b[0;34m\u001b[0m\u001b[0m\n\u001b[0m",
            "\u001b[0;31mTypeError\u001b[0m: 'tuple' object does not support item assignment"
          ]
        }
      ]
    },
    {
      "cell_type": "code",
      "source": [
        "tupla1[0]"
      ],
      "metadata": {
        "colab": {
          "base_uri": "https://localhost:8080/"
        },
        "id": "qrZeR5W5LxAg",
        "outputId": "8a9d8858-3e5d-46b6-b508-c69278cc19dc"
      },
      "execution_count": null,
      "outputs": [
        {
          "output_type": "execute_result",
          "data": {
            "text/plain": [
              "1"
            ]
          },
          "metadata": {},
          "execution_count": 145
        }
      ]
    },
    {
      "cell_type": "markdown",
      "source": [
        "## 8. Conjuntos"
      ],
      "metadata": {
        "id": "0FTQBM4LPXj1"
      }
    },
    {
      "cell_type": "markdown",
      "source": [
        "Um conjunto (set), assim como a tupla, é criado utilizando parênteses. Não existe indexação ou slicing, ou sejam, não seguem uma ordem ( nesse caso mais similares aos dicionários). Permitem adições mas não permitem itens repetidos."
      ],
      "metadata": {
        "id": "rTMECroFPtQm"
      }
    },
    {
      "cell_type": "code",
      "source": [
        "# Cria-se um conjunto partir da função set ()\n",
        "conjunto1 = set()\n"
      ],
      "metadata": {
        "id": "pFZOrlRlPldv"
      },
      "execution_count": null,
      "outputs": []
    },
    {
      "cell_type": "code",
      "source": [
        "conjunto1"
      ],
      "metadata": {
        "colab": {
          "base_uri": "https://localhost:8080/"
        },
        "id": "R9eZmkqrQLuB",
        "outputId": "d142b3df-1c23-4c82-c29e-15bbb9ed8bea"
      },
      "execution_count": null,
      "outputs": [
        {
          "output_type": "execute_result",
          "data": {
            "text/plain": [
              "set()"
            ]
          },
          "metadata": {},
          "execution_count": 147
        }
      ]
    },
    {
      "cell_type": "code",
      "source": [
        "type(conjunto1)"
      ],
      "metadata": {
        "colab": {
          "base_uri": "https://localhost:8080/"
        },
        "id": "SndQsoWcQQhS",
        "outputId": "cfb50d4a-8f24-45c1-e70b-b8d3427b572b"
      },
      "execution_count": null,
      "outputs": [
        {
          "output_type": "execute_result",
          "data": {
            "text/plain": [
              "set"
            ]
          },
          "metadata": {},
          "execution_count": 148
        }
      ]
    },
    {
      "cell_type": "code",
      "source": [
        "# Método add para adicionar um novo item\n",
        "conjunto1.add(9)"
      ],
      "metadata": {
        "id": "8Ue2xcQsQXgw"
      },
      "execution_count": null,
      "outputs": []
    },
    {
      "cell_type": "code",
      "source": [
        "conjunto1"
      ],
      "metadata": {
        "colab": {
          "base_uri": "https://localhost:8080/"
        },
        "id": "8zhMeojXQcz-",
        "outputId": "70abd4c0-1b66-419b-f59d-5e0092d2ddab"
      },
      "execution_count": null,
      "outputs": [
        {
          "output_type": "execute_result",
          "data": {
            "text/plain": [
              "{9}"
            ]
          },
          "metadata": {},
          "execution_count": 150
        }
      ]
    },
    {
      "cell_type": "code",
      "source": [
        "# Não consideram itens repetidos ( pode ser usado para remover duplicatas)\n",
        "# veja que vamos adicionar o mesmo número várias vezes, mas ele os contabiliza apenas uma vez\n",
        "conjunto1.add(9)\n",
        "conjunto1.add(9)\n",
        "conjunto1.add(9)\n",
        "conjunto1.add(1)\n",
        "conjunto1.add(1)\n",
        "conjunto1.add(2)\n",
        "conjunto1.add(\"PETR4\")"
      ],
      "metadata": {
        "id": "iEzR-4KWQtUf"
      },
      "execution_count": null,
      "outputs": []
    },
    {
      "cell_type": "code",
      "source": [
        "conjunto1"
      ],
      "metadata": {
        "colab": {
          "base_uri": "https://localhost:8080/"
        },
        "id": "IzWXmXzBRC-3",
        "outputId": "2e5c0cee-9902-4fcc-b7b9-94c63b61b2b1"
      },
      "execution_count": null,
      "outputs": [
        {
          "output_type": "execute_result",
          "data": {
            "text/plain": [
              "{1, 2, 9, 'PETR4'}"
            ]
          },
          "metadata": {},
          "execution_count": 152
        }
      ]
    },
    {
      "cell_type": "code",
      "source": [
        "len(conjunto1)"
      ],
      "metadata": {
        "colab": {
          "base_uri": "https://localhost:8080/"
        },
        "id": "kh-JQ1LVRZ_X",
        "outputId": "1e6a1b67-5230-4aee-aa16-c29e6fd997e7"
      },
      "execution_count": null,
      "outputs": [
        {
          "output_type": "execute_result",
          "data": {
            "text/plain": [
              "4"
            ]
          },
          "metadata": {},
          "execution_count": 153
        }
      ]
    },
    {
      "cell_type": "code",
      "source": [
        "# não são idexáveis, ou seja, não seguem uma ordem como as listas ou tuplas\n",
        "# Portanto, este comando vai resultar em erro\n",
        "\n",
        "conjunto1[0]"
      ],
      "metadata": {
        "colab": {
          "base_uri": "https://localhost:8080/",
          "height": 209
        },
        "id": "4ItvoUB_RgTP",
        "outputId": "18c576ab-d24f-4c9c-b374-a2b24d3c46f2"
      },
      "execution_count": null,
      "outputs": [
        {
          "output_type": "error",
          "ename": "NameError",
          "evalue": "ignored",
          "traceback": [
            "\u001b[0;31m---------------------------------------------------------------------------\u001b[0m",
            "\u001b[0;31mNameError\u001b[0m                                 Traceback (most recent call last)",
            "\u001b[0;32m<ipython-input-154-f6d62559eff6>\u001b[0m in \u001b[0;36m<module>\u001b[0;34m()\u001b[0m\n\u001b[1;32m      1\u001b[0m \u001b[0;31m# não são idexavel\u001b[0m\u001b[0;34m\u001b[0m\u001b[0;34m\u001b[0m\u001b[0;34m\u001b[0m\u001b[0m\n\u001b[1;32m      2\u001b[0m \u001b[0;34m\u001b[0m\u001b[0m\n\u001b[0;32m----> 3\u001b[0;31m \u001b[0mconjutno1\u001b[0m\u001b[0;34m[\u001b[0m\u001b[0;36m0\u001b[0m\u001b[0;34m]\u001b[0m\u001b[0;34m\u001b[0m\u001b[0;34m\u001b[0m\u001b[0m\n\u001b[0m",
            "\u001b[0;31mNameError\u001b[0m: name 'conjutno1' is not defined"
          ]
        }
      ]
    }
  ]
}