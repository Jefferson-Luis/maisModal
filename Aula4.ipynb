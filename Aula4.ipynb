{
  "nbformat": 4,
  "nbformat_minor": 0,
  "metadata": {
    "colab": {
      "name": "Aula4.ipynb",
      "provenance": [],
      "authorship_tag": "ABX9TyOi8IntJFWSLVh8DKNPfvWK",
      "include_colab_link": true
    },
    "kernelspec": {
      "name": "python3",
      "display_name": "Python 3"
    },
    "language_info": {
      "name": "python"
    }
  },
  "cells": [
    {
      "cell_type": "markdown",
      "metadata": {
        "id": "view-in-github",
        "colab_type": "text"
      },
      "source": [
        "<a href=\"https://colab.research.google.com/github/Jefferson-Luis/maisModal/blob/main/Aula4.ipynb\" target=\"_parent\"><img src=\"https://colab.research.google.com/assets/colab-badge.svg\" alt=\"Open In Colab\"/></a>"
      ]
    },
    {
      "cell_type": "markdown",
      "source": [
        "DS_Aula 4 - Funções e operadores especiais\n",
        "\n",
        "\n",
        "Na penúltima aula do Módulo 01, veremos mais alguns operadores, como o random, input, list comprehension, dentre outros. Entraremos no conceito de funções e métodos, e vamos aprender a criar funções anônimas e com um número indeterminado de argumentos, usando o args e o kwargs."
      ],
      "metadata": {
        "id": "5BfNH83oSqBI"
      }
    },
    {
      "cell_type": "markdown",
      "source": [
        "### 11.4 Random \n",
        "Este operador pode ser utilizado para obter números aleatórios de acordo com alguma condição pré-determinada"
      ],
      "metadata": {
        "id": "pGwNFWamPaHL"
      }
    },
    {
      "cell_type": "code",
      "source": [
        "from random import randint, shuffle"
      ],
      "metadata": {
        "id": "FDxtdFn5QD-0"
      },
      "execution_count": null,
      "outputs": []
    },
    {
      "cell_type": "markdown",
      "source": [
        "A função randint() retorna um número aleatório dentro de um intervalo específico\n"
      ],
      "metadata": {
        "id": "CVpA5KVIQHJj"
      }
    },
    {
      "cell_type": "code",
      "source": [
        "# ran + int (int de inteiro)\n",
        "randint(0,10)"
      ],
      "metadata": {
        "colab": {
          "base_uri": "https://localhost:8080/"
        },
        "id": "z-dsfZtMQRNd",
        "outputId": "35b96245-d327-4d67-c40e-edcdc67dd6f9"
      },
      "execution_count": null,
      "outputs": [
        {
          "output_type": "execute_result",
          "data": {
            "text/plain": [
              "7"
            ]
          },
          "metadata": {},
          "execution_count": 2
        }
      ]
    },
    {
      "cell_type": "code",
      "source": [
        "# Vamos gerar  uma lista com 10 números aleatórios que sejam entre 10 e 100.\n",
        "\n",
        "list_rand = [] # cria lista vazia de numeros randomicos \n",
        "\n",
        "for i in range(0,10):  #  para lista com 10 números aleatórios\n",
        "  list_rand.append (randint(10,100))   # usa-se o append para guardar na memória minha lista\n",
        "  "
      ],
      "metadata": {
        "id": "VkeoFzp9Qb_1"
      },
      "execution_count": null,
      "outputs": []
    },
    {
      "cell_type": "code",
      "source": [
        "# retorna o resultado da minha lista\n",
        "\n",
        "list_rand"
      ],
      "metadata": {
        "colab": {
          "base_uri": "https://localhost:8080/"
        },
        "id": "Eiv0hwaESjnx",
        "outputId": "fa1909e2-6eac-40d7-cc3f-464b574a7166"
      },
      "execution_count": null,
      "outputs": [
        {
          "output_type": "execute_result",
          "data": {
            "text/plain": [
              "[11, 38, 33, 97, 21, 22, 12, 83, 80, 67]"
            ]
          },
          "metadata": {},
          "execution_count": 11
        }
      ]
    },
    {
      "cell_type": "code",
      "source": [
        "# fazendo em ordem crescente\n",
        "\n",
        "list_rand.sort()\n",
        "list_rand"
      ],
      "metadata": {
        "colab": {
          "base_uri": "https://localhost:8080/"
        },
        "id": "KeNVgLjUStli",
        "outputId": "b6935a7b-fc71-443d-8546-fe87760593f5"
      },
      "execution_count": null,
      "outputs": [
        {
          "output_type": "execute_result",
          "data": {
            "text/plain": [
              "[11, 12, 21, 22, 33, 38, 67, 80, 83, 97]"
            ]
          },
          "metadata": {},
          "execution_count": 13
        }
      ]
    },
    {
      "cell_type": "code",
      "source": [
        "# ordem decrecente\n",
        "\n",
        "list_rand.reverse()\n",
        "list_rand"
      ],
      "metadata": {
        "colab": {
          "base_uri": "https://localhost:8080/"
        },
        "id": "dF88qPNjS3wL",
        "outputId": "9f2f4201-e92d-4a60-8b5b-5bcb4974fd29"
      },
      "execution_count": null,
      "outputs": [
        {
          "output_type": "execute_result",
          "data": {
            "text/plain": [
              "[97, 83, 80, 67, 38, 33, 22, 21, 12, 11]"
            ]
          },
          "metadata": {},
          "execution_count": 16
        }
      ]
    },
    {
      "cell_type": "code",
      "source": [
        "# função shuffle , reorganizar a ordem - embaralhando a lista\n",
        "\n",
        "shuffle(list_rand)"
      ],
      "metadata": {
        "id": "OibBiO5sTpwI"
      },
      "execution_count": null,
      "outputs": []
    },
    {
      "cell_type": "code",
      "source": [
        "list_rand"
      ],
      "metadata": {
        "colab": {
          "base_uri": "https://localhost:8080/"
        },
        "id": "ZC4-5Fo6T0wV",
        "outputId": "2f9d914c-6bc7-448b-b991-7cd756375dfb"
      },
      "execution_count": null,
      "outputs": [
        {
          "output_type": "execute_result",
          "data": {
            "text/plain": [
              "[22, 97, 83, 12, 80, 67, 11, 38, 21, 33]"
            ]
          },
          "metadata": {},
          "execution_count": 18
        }
      ]
    },
    {
      "cell_type": "markdown",
      "source": [
        "### 11.5 Operadores min e max\n",
        "Funções para retornar os valores mínimo e máximo de uma lista"
      ],
      "metadata": {
        "id": "Cs9PcpvwT5Yi"
      }
    },
    {
      "cell_type": "code",
      "source": [
        "min(list_rand)\n"
      ],
      "metadata": {
        "colab": {
          "base_uri": "https://localhost:8080/"
        },
        "id": "mR1POlOtUDbW",
        "outputId": "f1f07baa-fda0-46ef-ea38-67c1bcab69d8"
      },
      "execution_count": null,
      "outputs": [
        {
          "output_type": "execute_result",
          "data": {
            "text/plain": [
              "11"
            ]
          },
          "metadata": {},
          "execution_count": 19
        }
      ]
    },
    {
      "cell_type": "code",
      "source": [
        "max(list_rand)"
      ],
      "metadata": {
        "colab": {
          "base_uri": "https://localhost:8080/"
        },
        "id": "9hnQrEMbUNZN",
        "outputId": "e35d636d-06a6-4118-ea06-507d85c824ff"
      },
      "execution_count": null,
      "outputs": [
        {
          "output_type": "execute_result",
          "data": {
            "text/plain": [
              "97"
            ]
          },
          "metadata": {},
          "execution_count": 20
        }
      ]
    },
    {
      "cell_type": "markdown",
      "source": [
        "### 11.6. input\n",
        "Função que permite que o usuário inpute algum valor de acordo com o que é pedido por um texto e armazene isso na memória de uma variável"
      ],
      "metadata": {
        "id": "J03DjP2zURb3"
      }
    },
    {
      "cell_type": "code",
      "source": [
        "# guardar em uma variável o valor inserido pelo usuário\n",
        "\n",
        "acao = input('Por favor insira a ação que deseja comprar: ')"
      ],
      "metadata": {
        "colab": {
          "base_uri": "https://localhost:8080/"
        },
        "id": "j2maTaV4UffI",
        "outputId": "76d514c9-0526-4d29-8af9-9c1868d28663"
      },
      "execution_count": null,
      "outputs": [
        {
          "name": "stdout",
          "output_type": "stream",
          "text": [
            "Por favor insira a ação que deseja comprar: PETR4\n"
          ]
        }
      ]
    },
    {
      "cell_type": "code",
      "source": [
        "acao\n"
      ],
      "metadata": {
        "colab": {
          "base_uri": "https://localhost:8080/",
          "height": 36
        },
        "id": "Qd5CdmnjU470",
        "outputId": "19b5f9af-63e5-43dc-86a7-ecf164db0b27"
      },
      "execution_count": null,
      "outputs": [
        {
          "output_type": "execute_result",
          "data": {
            "text/plain": [
              "'PETR4'"
            ],
            "application/vnd.google.colaboratory.intrinsic+json": {
              "type": "string"
            }
          },
          "metadata": {},
          "execution_count": 22
        }
      ]
    },
    {
      "cell_type": "code",
      "source": [
        "print(f'O cliente deseja comprar o papel {acao}')"
      ],
      "metadata": {
        "colab": {
          "base_uri": "https://localhost:8080/"
        },
        "id": "oZNNz1T2VLPJ",
        "outputId": "a9bec95d-152e-42a2-c206-affd3c5ef195"
      },
      "execution_count": null,
      "outputs": [
        {
          "output_type": "stream",
          "name": "stdout",
          "text": [
            "O cliente deseja comprar o papel PETR4\n"
          ]
        }
      ]
    },
    {
      "cell_type": "markdown",
      "source": [
        "## 12. List Comprehension ( Compreensão de lista)\n",
        "\n",
        "Forma de executar loops com uma estrutura de código mais resumida do que os \"for\" tradicionais "
      ],
      "metadata": {
        "id": "yefVYddfVSrG"
      }
    },
    {
      "cell_type": "code",
      "source": [
        "acao = 'MGLU3'"
      ],
      "metadata": {
        "id": "fzhGGWHxVopB"
      },
      "execution_count": null,
      "outputs": []
    },
    {
      "cell_type": "markdown",
      "source": [
        "Imagine que precisamos realizar a tarefa de transformar cada caractere na stiring acima em um item separado dentro de uma nova lista. Como feríamos isso com nosso conhecimento em Python até agora?\n",
        "### Exemplo 01 Na forma tradicional usando 'for':"
      ],
      "metadata": {
        "id": "iK4rWuoSWjfa"
      }
    },
    {
      "cell_type": "code",
      "source": [
        "\n",
        "lista_caracteres = []\n",
        "for i in acao :\n",
        "  lista_caracteres.append(i)  # para ca 'i' em acao ( pegaria lista vazia ) e  juntaria 'append' a 'i'\n"
      ],
      "metadata": {
        "id": "PXXP2GWVV2Es"
      },
      "execution_count": null,
      "outputs": []
    },
    {
      "cell_type": "code",
      "source": [
        "lista_caracteres"
      ],
      "metadata": {
        "colab": {
          "base_uri": "https://localhost:8080/"
        },
        "id": "WCPRAPH4WZk0",
        "outputId": "fe8c3597-6561-41e5-9489-da4601a5c108"
      },
      "execution_count": null,
      "outputs": [
        {
          "output_type": "execute_result",
          "data": {
            "text/plain": [
              "['M', 'G', 'L', 'U', '3']"
            ]
          },
          "metadata": {},
          "execution_count": 26
        }
      ]
    },
    {
      "cell_type": "code",
      "source": [
        "# Podemos usar o indexing para retornar algum caractere específico\n",
        "\n",
        "lista_caracteres[1]"
      ],
      "metadata": {
        "colab": {
          "base_uri": "https://localhost:8080/",
          "height": 36
        },
        "id": "eX6T9cvIWti8",
        "outputId": "8c66ca0d-32ac-429e-ed1d-1778357ea257"
      },
      "execution_count": null,
      "outputs": [
        {
          "output_type": "execute_result",
          "data": {
            "text/plain": [
              "'G'"
            ],
            "application/vnd.google.colaboratory.intrinsic+json": {
              "type": "string"
            }
          },
          "metadata": {},
          "execution_count": 27
        }
      ]
    },
    {
      "cell_type": "code",
      "source": [
        "# E COMO FAZER ISSO UTILIZANDO A COMPREENSAO DE LISTA?\n",
        "# perceba que o comando ficou bem mais simples\n",
        "\n",
        "[caractere for caractere in acao]"
      ],
      "metadata": {
        "colab": {
          "base_uri": "https://localhost:8080/"
        },
        "id": "cCHgq2FRXTW7",
        "outputId": "7a080fce-5f1a-4a38-e3f2-eb1ac080c75e"
      },
      "execution_count": null,
      "outputs": [
        {
          "output_type": "execute_result",
          "data": {
            "text/plain": [
              "['M', 'G', 'L', 'U', '3']"
            ]
          },
          "metadata": {},
          "execution_count": 28
        }
      ]
    },
    {
      "cell_type": "markdown",
      "source": [
        "O OUTPUT da compreensão de lista é uma nova lista"
      ],
      "metadata": {
        "id": "V0-XSI1YYE9F"
      }
    },
    {
      "cell_type": "code",
      "source": [
        "# para cada caracter podemos duplicar usando:\n",
        "\n",
        "[caractere*2 for caractere in acao]"
      ],
      "metadata": {
        "colab": {
          "base_uri": "https://localhost:8080/"
        },
        "id": "InkyqrytXrzV",
        "outputId": "9babedaa-de1b-40b5-de08-eb7bc0805aec"
      },
      "execution_count": null,
      "outputs": [
        {
          "output_type": "execute_result",
          "data": {
            "text/plain": [
              "['MM', 'GG', 'LL', 'UU', '33']"
            ]
          },
          "metadata": {},
          "execution_count": 29
        }
      ]
    },
    {
      "cell_type": "markdown",
      "source": [
        "\n",
        "### Exemplo 02\n",
        "\n",
        "Imagine que você recebeu uma série de tickers que vieram incompletos. Antes de realizar sua rotina, precisa adicionar um número '3' aos nomes dos papéis. Como você faria?"
      ],
      "metadata": {
        "id": "9Ar2iY38YLDW"
      }
    },
    {
      "cell_type": "code",
      "source": [
        "ativos = ['MGLU', 'VALE', 'WEGE', 'LREN']\n",
        "\n",
        "\n"
      ],
      "metadata": {
        "id": "Ha9Ptk0cYkEH"
      },
      "execution_count": null,
      "outputs": []
    },
    {
      "cell_type": "code",
      "source": [
        "# Criamos uma lista vazia que será populada com os novos nomes de ativos\n",
        "\n",
        "novos_ativos = []\n",
        "\n",
        "# Para cada ativo, vamos adicionar o caractere '3' no final\n",
        "for ativo in ativos:\n",
        "  novos_ativos.append(ativo + '3')"
      ],
      "metadata": {
        "id": "I_63FwwNbc4D"
      },
      "execution_count": null,
      "outputs": []
    },
    {
      "cell_type": "code",
      "source": [
        "novos_ativos"
      ],
      "metadata": {
        "colab": {
          "base_uri": "https://localhost:8080/"
        },
        "id": "QcJFR3nQbI8Z",
        "outputId": "a6b14bd9-f1b8-403c-fb56-bf379ca5f829"
      },
      "execution_count": null,
      "outputs": [
        {
          "output_type": "execute_result",
          "data": {
            "text/plain": [
              "['MGLU3', 'VALE3', 'WEGE3', 'LREN3']"
            ]
          },
          "metadata": {},
          "execution_count": 40
        }
      ]
    },
    {
      "cell_type": "markdown",
      "source": [
        "Podemos realizar essa tarefa com uma compreensão de lista de uma forma mais rápida.\n"
      ],
      "metadata": {
        "id": "Y-bHVVVOazh9"
      }
    },
    {
      "cell_type": "code",
      "source": [
        "[ ativo + '3' for ativo in ativos]"
      ],
      "metadata": {
        "colab": {
          "base_uri": "https://localhost:8080/"
        },
        "id": "QhGLbZbhcRLr",
        "outputId": "813e7e65-4402-4231-c819-6dbb463a283d"
      },
      "execution_count": null,
      "outputs": [
        {
          "output_type": "execute_result",
          "data": {
            "text/plain": [
              "['MGLU3', 'VALE3', 'WEGE3', 'LREN3']"
            ]
          },
          "metadata": {},
          "execution_count": 41
        }
      ]
    },
    {
      "cell_type": "markdown",
      "source": [
        "**Exemplo 03**\n",
        "### Imagine que quiséssemos elevar todos os números de 0 a 10 ao quadrado"
      ],
      "metadata": {
        "id": "-XNNWGHYdQzc"
      }
    },
    {
      "cell_type": "code",
      "source": [
        "# Tradicional \n",
        "\n",
        "list_num = []\n",
        "\n",
        "for num in range(0,11):\n",
        "  list_num.append(num**2)\n",
        "\n",
        "list_num"
      ],
      "metadata": {
        "colab": {
          "base_uri": "https://localhost:8080/"
        },
        "id": "y5CAgvfPdfBQ",
        "outputId": "0404037e-0ab5-4262-b27f-7a55a2d801b7"
      },
      "execution_count": null,
      "outputs": [
        {
          "output_type": "execute_result",
          "data": {
            "text/plain": [
              "[0, 1, 4, 9, 16, 25, 36, 49, 64, 81, 100]"
            ]
          },
          "metadata": {},
          "execution_count": 52
        }
      ]
    },
    {
      "cell_type": "code",
      "source": [
        "# com a compreensão de lista, podemos fazer\n",
        "\n",
        "[num**2 for num in range(0,11)]"
      ],
      "metadata": {
        "colab": {
          "base_uri": "https://localhost:8080/"
        },
        "id": "6f8buN_Xej1b",
        "outputId": "6a1e21b9-2f33-4b36-9a69-dafd11638ae6"
      },
      "execution_count": null,
      "outputs": [
        {
          "output_type": "execute_result",
          "data": {
            "text/plain": [
              "[0, 1, 4, 9, 16, 25, 36, 49, 64, 81, 100]"
            ]
          },
          "metadata": {},
          "execution_count": 56
        }
      ]
    },
    {
      "cell_type": "markdown",
      "source": [
        "## 13. Funções e métodos\n"
      ],
      "metadata": {
        "id": "T-ZRD1gofp-0"
      }
    },
    {
      "cell_type": "markdown",
      "source": [
        "Toda função é um método , MAS nem todo métdo é uma função \n",
        "Uma função é um comando capaz de realizar uma tarefa, de acordo com critérios que determinamos.\n",
        "A função só é executada de fato quando é chamada, e executada atividades que foram especificadas pelo usuário."
      ],
      "metadata": {
        "id": "mKqp5bn8f0Jr"
      }
    },
    {
      "cell_type": "code",
      "source": [
        "def tempo_hoje ():\n",
        "  print(\"Hoje faz sol\")\n",
        "  "
      ],
      "metadata": {
        "id": "FPtfSsVVgbnc"
      },
      "execution_count": null,
      "outputs": []
    },
    {
      "cell_type": "code",
      "source": [
        "tempo_hoje()"
      ],
      "metadata": {
        "colab": {
          "base_uri": "https://localhost:8080/"
        },
        "id": "Kvk6Cgm1gq-r",
        "outputId": "1fe39d56-5bb4-4e51-acee-064391656c57"
      },
      "execution_count": null,
      "outputs": [
        {
          "output_type": "stream",
          "name": "stdout",
          "text": [
            "Hoje faz sol\n"
          ]
        }
      ]
    },
    {
      "cell_type": "markdown",
      "source": [
        "Vampos criar agora uma nova função que vai retornar a soma de dois números, sendo estes determinados pelo usuário."
      ],
      "metadata": {
        "id": "4dUl5s5WhPNm"
      }
    },
    {
      "cell_type": "code",
      "source": [
        "# Peceba que a função abaixo recebe dois argumentos: a e b. A função então soma a e b e retorna o resulado desta soma.\n",
        "def somas (a,b):\n",
        "  soma = a+b\n",
        "  return soma"
      ],
      "metadata": {
        "id": "n0xUq-wYhcUw"
      },
      "execution_count": null,
      "outputs": []
    },
    {
      "cell_type": "markdown",
      "source": [
        "Vamos passa nessa função os numéros 2 e 3"
      ],
      "metadata": {
        "id": "AXjf7y7Qiuyp"
      }
    },
    {
      "cell_type": "code",
      "source": [
        "somas(2,3)"
      ],
      "metadata": {
        "colab": {
          "base_uri": "https://localhost:8080/"
        },
        "id": "cnx8medQhwd7",
        "outputId": "122d7be0-b850-4212-f798-d358d09dd70d"
      },
      "execution_count": null,
      "outputs": [
        {
          "output_type": "execute_result",
          "data": {
            "text/plain": [
              "5"
            ]
          },
          "metadata": {},
          "execution_count": 78
        }
      ]
    },
    {
      "cell_type": "code",
      "source": [
        "# passando para uma nova váriavel \n",
        "\n",
        "novo_objeto = somas ( 1000, 3050)\n",
        "novo_objeto"
      ],
      "metadata": {
        "colab": {
          "base_uri": "https://localhost:8080/"
        },
        "id": "elvl--Sri5SI",
        "outputId": "9036d264-b32f-4099-d9f4-af44f6ece0da"
      },
      "execution_count": null,
      "outputs": [
        {
          "output_type": "execute_result",
          "data": {
            "text/plain": [
              "4050"
            ]
          },
          "metadata": {},
          "execution_count": 79
        }
      ]
    },
    {
      "cell_type": "markdown",
      "source": [
        "Vamos Criar agora uma função chamada 'preco' que basicamente retorna a cotação de um papel, de acordo com o for especificado pelo usuário."
      ],
      "metadata": {
        "id": "v038dwwwjB_6"
      }
    },
    {
      "cell_type": "code",
      "source": [
        "def preco(acao):\n",
        "  if (acao == 'PETR4'):\n",
        "    print('O preço agora é R$ 30,89')\n",
        "  elif (acao == 'VALE3'):\n",
        "    print(\"O preço agora é R$ 112\")\n",
        "  elif (acao == 'WEGE3'):\n",
        "    print('O preço agora é R$ 32')\n",
        "  elif ( acao == \"mglu3\"):\n",
        "    print('O preço agora é R$ 6,79')\n",
        "  else:\n",
        "    print('Papel desconhecido ')"
      ],
      "metadata": {
        "id": "bY5p2meXjPQj"
      },
      "execution_count": null,
      "outputs": []
    },
    {
      "cell_type": "code",
      "source": [
        "preco('FLRY3')"
      ],
      "metadata": {
        "colab": {
          "base_uri": "https://localhost:8080/"
        },
        "id": "1u5CTxuwkPoj",
        "outputId": "98ef4f6f-fbf7-43cc-fff6-5c31f75ca025"
      },
      "execution_count": null,
      "outputs": [
        {
          "output_type": "stream",
          "name": "stdout",
          "text": [
            "Papel desconhecido \n"
          ]
        }
      ]
    },
    {
      "cell_type": "code",
      "source": [
        "preco('PETR4')"
      ],
      "metadata": {
        "colab": {
          "base_uri": "https://localhost:8080/"
        },
        "id": "FnyozKKskY-J",
        "outputId": "3b3250b6-9997-4ed6-b4b0-5e02a65ed1d7"
      },
      "execution_count": null,
      "outputs": [
        {
          "output_type": "stream",
          "name": "stdout",
          "text": [
            "O preço agora é R$ 30,89\n"
          ]
        }
      ]
    },
    {
      "cell_type": "markdown",
      "source": [
        "CRIANDO Docstring da função"
      ],
      "metadata": {
        "id": "wXL7mL2ckuEK"
      }
    },
    {
      "cell_type": "markdown",
      "source": [
        "O que é?\n",
        "'Docstring' é a documentação da função, ou seja, a mensagem que aparece quando o usuário consulta a ajuda da função."
      ],
      "metadata": {
        "id": "jYxlRPuwk0ME"
      }
    },
    {
      "cell_type": "code",
      "source": [
        "def preco(acao):\n",
        "\n",
        "  ''' ESSA FUNÇÃO DEVE ER UTILIZADA PARA RETORNAR A COTAÇÃO EM TEMPO RELA DE UM PAPEL  '''\n",
        "  if (acao == 'PETR4'):\n",
        "    print('O preço agora é R$ 30,89')\n",
        "  elif (acao == 'VALE3'):\n",
        "    print(\"O preço agora é R$ 112\")\n",
        "  elif (acao == 'WEGE3'):\n",
        "    print('O preço agora é R$ 32')\n",
        "  elif ( acao == \"mglu3\"):\n",
        "    print('O preço agora é R$ 6,79')\n",
        "  else:\n",
        "    print('Papel desconhecido ')"
      ],
      "metadata": {
        "id": "ZhbTPrH4lFbw"
      },
      "execution_count": null,
      "outputs": []
    },
    {
      "cell_type": "code",
      "source": [
        "preco()"
      ],
      "metadata": {
        "id": "j_xnWbtqlq16"
      },
      "execution_count": null,
      "outputs": []
    },
    {
      "cell_type": "markdown",
      "source": [
        "### Métodos "
      ],
      "metadata": {
        "id": "nDK3Mi4ElzQj"
      }
    },
    {
      "cell_type": "markdown",
      "source": [
        "Métodos são funções aplicáveis apenas a determinados tipos de objetos. Todos os métodos são funções, mas nem todas as funções são métodos. Os métodos são executados ao fim dos objetos e separados com um ponto."
      ],
      "metadata": {
        "id": "_cMj3v8Il4Kj"
      }
    },
    {
      "cell_type": "code",
      "source": [
        "numeros = [1, 2, 4, 6, 10]\n",
        "\n",
        "# Perceba que a função append() abaixo é um método.\n",
        "numeros.append(5)\n",
        "\n",
        "numeros"
      ],
      "metadata": {
        "colab": {
          "base_uri": "https://localhost:8080/"
        },
        "id": "BovmQ2BgmNKq",
        "outputId": "c6404913-40a8-4f55-b749-43f2460a2e63"
      },
      "execution_count": null,
      "outputs": [
        {
          "output_type": "execute_result",
          "data": {
            "text/plain": [
              "[1, 2, 4, 6, 10, 5]"
            ]
          },
          "metadata": {},
          "execution_count": 85
        }
      ]
    },
    {
      "cell_type": "markdown",
      "source": [
        "## 14. Funções embutidas"
      ],
      "metadata": {
        "id": "3AdfHCSLm1ty"
      }
    },
    {
      "cell_type": "markdown",
      "source": [
        "Também conhecidas como \"built-in functions\" são funções nativas do Python que não necessitam de nenhuma biblioteca para sua execução."
      ],
      "metadata": {
        "id": "PilC4OV_m6kp"
      }
    },
    {
      "cell_type": "markdown",
      "source": [
        "### 14.1. Map\n"
      ],
      "metadata": {
        "id": "rnxXsoizWsUd"
      }
    },
    {
      "cell_type": "markdown",
      "source": [
        "* funciona como replicador de função .\n",
        "\n",
        "# A função map () aplica um comando (função) a vários elementos de uma lista, de uma vez.\n",
        "Confira alguns exemplos:"
      ],
      "metadata": {
        "id": "NcPtu-JWW6dk"
      }
    },
    {
      "cell_type": "code",
      "source": [
        "def potencia(num, pot):   # pot é quando o usuário passa o valor\n",
        "  return num **pot\n",
        "potencia(3,2)  # potencia de 3 ao quadrado\n"
      ],
      "metadata": {
        "colab": {
          "base_uri": "https://localhost:8080/"
        },
        "id": "khX8J7hjXaKc",
        "outputId": "fef93cc2-f503-4ccf-e084-f2b10a7096f5"
      },
      "execution_count": null,
      "outputs": [
        {
          "output_type": "execute_result",
          "data": {
            "text/plain": [
              "9"
            ]
          },
          "metadata": {},
          "execution_count": 1
        }
      ]
    },
    {
      "cell_type": "code",
      "source": [
        "def potencia(num, pot = 2):   # pot = 2 por padrão\n",
        "  return num **pot\n",
        "potencia(3)  # caso não digite 2 será automaticamente calculado\n"
      ],
      "metadata": {
        "colab": {
          "base_uri": "https://localhost:8080/"
        },
        "id": "zSsUNy4HXQKs",
        "outputId": "bc3efefd-10c8-45aa-9ced-de3ba6a9c5c8"
      },
      "execution_count": null,
      "outputs": [
        {
          "output_type": "execute_result",
          "data": {
            "text/plain": [
              "9"
            ]
          },
          "metadata": {},
          "execution_count": 3
        }
      ]
    },
    {
      "cell_type": "code",
      "source": [
        "# se eu quiser fazer a potencia de 3 elevado a 4 \n",
        "potencia(3,4)"
      ],
      "metadata": {
        "colab": {
          "base_uri": "https://localhost:8080/"
        },
        "id": "jBTEf9mdYNS_",
        "outputId": "7b71b42c-86ba-4b53-d87e-88fc56d9da98"
      },
      "execution_count": null,
      "outputs": [
        {
          "output_type": "execute_result",
          "data": {
            "text/plain": [
              "81"
            ]
          },
          "metadata": {},
          "execution_count": 4
        }
      ]
    },
    {
      "cell_type": "code",
      "source": [
        "lista_numeros = [1, 2, 3, 4, 5]"
      ],
      "metadata": {
        "id": "FmCQpE7LYVEE"
      },
      "execution_count": null,
      "outputs": []
    },
    {
      "cell_type": "code",
      "source": [
        "# aplicando a potenciação para todos os numeros acima \n",
        "\n",
        "map(potencia, lista_numeros)"
      ],
      "metadata": {
        "colab": {
          "base_uri": "https://localhost:8080/"
        },
        "id": "HrEgkPFgYc5K",
        "outputId": "46be1676-fc40-45e5-f199-75860b74e8c6"
      },
      "execution_count": null,
      "outputs": [
        {
          "output_type": "execute_result",
          "data": {
            "text/plain": [
              "<map at 0x7fb86fe32f50>"
            ]
          },
          "metadata": {},
          "execution_count": 6
        }
      ]
    },
    {
      "cell_type": "code",
      "source": [
        "# list para exibir o resultado\n",
        "# a função map faz que a potencia mapear a potencia de minha lista\n",
        "# aplicando a mesma função a varios elementos de uma lista\n",
        "\n",
        "list(map(potencia, lista_numeros))"
      ],
      "metadata": {
        "colab": {
          "base_uri": "https://localhost:8080/"
        },
        "id": "If7SHJO4YmqI",
        "outputId": "79a421b4-5b77-41dd-f452-4440fdd44be1"
      },
      "execution_count": null,
      "outputs": [
        {
          "output_type": "execute_result",
          "data": {
            "text/plain": [
              "[1, 4, 9, 16, 25]"
            ]
          },
          "metadata": {},
          "execution_count": 7
        }
      ]
    },
    {
      "cell_type": "markdown",
      "source": [
        "### 14.2. Filter"
      ],
      "metadata": {
        "id": "sFeTV8ZYW2iS"
      }
    },
    {
      "cell_type": "markdown",
      "source": [
        "De forma análoga, a função 'filter'  aplica um filtro a vários elementos de uma lista de uma só vez."
      ],
      "metadata": {
        "id": "zxBW9e2uZCZ7"
      }
    },
    {
      "cell_type": "code",
      "source": [
        "num = 80\n",
        "\n",
        "\n",
        "def checar_par(num):\n",
        "  return num%2 == 0 # é par se for 0 "
      ],
      "metadata": {
        "id": "daf881T1ZOZ2"
      },
      "execution_count": null,
      "outputs": []
    },
    {
      "cell_type": "code",
      "source": [
        "checar_par(num)\n"
      ],
      "metadata": {
        "colab": {
          "base_uri": "https://localhost:8080/"
        },
        "id": "T_mFM6vbZsrX",
        "outputId": "cf838af7-be38-42b9-fcdd-e176147c9b73"
      },
      "execution_count": null,
      "outputs": [
        {
          "output_type": "execute_result",
          "data": {
            "text/plain": [
              "True"
            ]
          },
          "metadata": {},
          "execution_count": 13
        }
      ]
    },
    {
      "cell_type": "code",
      "source": [
        "checar_par(9)"
      ],
      "metadata": {
        "colab": {
          "base_uri": "https://localhost:8080/"
        },
        "id": "dwpwKUrRZ575",
        "outputId": "be2bac20-bc54-4b15-9229-bdcb23bf48af"
      },
      "execution_count": null,
      "outputs": [
        {
          "output_type": "execute_result",
          "data": {
            "text/plain": [
              "False"
            ]
          },
          "metadata": {},
          "execution_count": 14
        }
      ]
    },
    {
      "cell_type": "markdown",
      "source": [
        "Se aplicarmos essa função à lista criada no item anterior, ela vai trazer apenas os números que são pares."
      ],
      "metadata": {
        "id": "8wAqeuBDZ9Bn"
      }
    },
    {
      "cell_type": "code",
      "source": [
        "filter(checar_par, lista_numeros)"
      ],
      "metadata": {
        "colab": {
          "base_uri": "https://localhost:8080/"
        },
        "id": "jE4qK2i0aIuo",
        "outputId": "00b8ff72-19a3-4c5f-c24b-4eb940bfcb21"
      },
      "execution_count": null,
      "outputs": [
        {
          "output_type": "execute_result",
          "data": {
            "text/plain": [
              "<filter at 0x7fb86fd8d050>"
            ]
          },
          "metadata": {},
          "execution_count": 15
        }
      ]
    },
    {
      "cell_type": "code",
      "source": [
        "# mostranto apenas os numeros pares da minha lista\n",
        "\n",
        "list(filter(checar_par,lista_numeros))"
      ],
      "metadata": {
        "colab": {
          "base_uri": "https://localhost:8080/"
        },
        "id": "kA7AhIlBaP6N",
        "outputId": "469d4a0a-b165-4ec0-9ec6-b78d6f0a0f2c"
      },
      "execution_count": null,
      "outputs": [
        {
          "output_type": "execute_result",
          "data": {
            "text/plain": [
              "[2, 4]"
            ]
          },
          "metadata": {},
          "execution_count": 16
        }
      ]
    },
    {
      "cell_type": "markdown",
      "source": [
        "## 15. Funções anônimas: lambda"
      ],
      "metadata": {
        "id": "6virXRLtagnr"
      }
    },
    {
      "cell_type": "markdown",
      "source": [
        "São funções que não precisam de definição forma (explícita) podendo ser chamadas em apenas uma linha."
      ],
      "metadata": {
        "id": "rkTx_xBuatvH"
      }
    },
    {
      "cell_type": "code",
      "source": [
        "# função para calcular o num ao quadrado\n",
        "\n",
        "def quadrado(num):\n",
        "  return num**2"
      ],
      "metadata": {
        "id": "ncSO3QGta556"
      },
      "execution_count": null,
      "outputs": []
    },
    {
      "cell_type": "code",
      "source": [
        "quadrado(5)"
      ],
      "metadata": {
        "colab": {
          "base_uri": "https://localhost:8080/"
        },
        "id": "hLEShpsWbFkK",
        "outputId": "8d105e6f-be99-4d49-cb48-766cceed1867"
      },
      "execution_count": null,
      "outputs": [
        {
          "output_type": "execute_result",
          "data": {
            "text/plain": [
              "25"
            ]
          },
          "metadata": {},
          "execution_count": 18
        }
      ]
    },
    {
      "cell_type": "markdown",
      "source": [
        "Com o comando lambda, não precisamos dar um nome a essa função nem defini-la, basta especificar qual a tarefa que precisamos executar"
      ],
      "metadata": {
        "id": "C18b2U39bJwo"
      }
    },
    {
      "cell_type": "code",
      "source": [
        "lambda num: num**2"
      ],
      "metadata": {
        "colab": {
          "base_uri": "https://localhost:8080/"
        },
        "id": "Wioh8ItQbU1H",
        "outputId": "61956758-07d4-48b4-eb40-84f56303ede8"
      },
      "execution_count": null,
      "outputs": [
        {
          "output_type": "execute_result",
          "data": {
            "text/plain": [
              "<function __main__.<lambda>>"
            ]
          },
          "metadata": {},
          "execution_count": 19
        }
      ]
    },
    {
      "cell_type": "markdown",
      "source": [
        "Caso seja do nosso interesse, podemos criar uma variável que recebe a operação realizada pela função lambda"
      ],
      "metadata": {
        "id": "NSavc5rQbiir"
      }
    },
    {
      "cell_type": "code",
      "source": [
        "quadrado_lambda = lambda num: num**2"
      ],
      "metadata": {
        "id": "uWVe1bjJbqqi"
      },
      "execution_count": null,
      "outputs": []
    },
    {
      "cell_type": "code",
      "source": [
        "quadrado_lambda(5)"
      ],
      "metadata": {
        "colab": {
          "base_uri": "https://localhost:8080/"
        },
        "id": "sACRSLAEbyIC",
        "outputId": "8a5bda7a-dc65-4c5f-98d3-d3b353245557"
      },
      "execution_count": null,
      "outputs": [
        {
          "output_type": "execute_result",
          "data": {
            "text/plain": [
              "25"
            ]
          },
          "metadata": {},
          "execution_count": 21
        }
      ]
    },
    {
      "cell_type": "code",
      "source": [
        "# aplicando a função lambda a todos elemento da minha lista\n",
        "\n",
        "list(map(lambda num: num **2, lista_numeros))"
      ],
      "metadata": {
        "colab": {
          "base_uri": "https://localhost:8080/"
        },
        "id": "_SZBbRdkb8_a",
        "outputId": "b733eca1-04b4-4610-a981-446bbe4d04d2"
      },
      "execution_count": null,
      "outputs": [
        {
          "output_type": "execute_result",
          "data": {
            "text/plain": [
              "[1, 4, 9, 16, 25]"
            ]
          },
          "metadata": {},
          "execution_count": 22
        }
      ]
    },
    {
      "cell_type": "code",
      "source": [
        "# utilizando a função lambda junto com a filter\n",
        "# mostrando apenas os numeros pares da minha lista\n",
        "\n",
        "list(filter(lambda num: num%2 == 0, lista_numeros))"
      ],
      "metadata": {
        "colab": {
          "base_uri": "https://localhost:8080/"
        },
        "id": "2wwvIvPicMqw",
        "outputId": "88d8546b-0e58-442f-ff24-8cccfbf2f114"
      },
      "execution_count": null,
      "outputs": [
        {
          "output_type": "execute_result",
          "data": {
            "text/plain": [
              "[2, 4]"
            ]
          },
          "metadata": {},
          "execution_count": 23
        }
      ]
    },
    {
      "cell_type": "markdown",
      "source": [
        "## 16. Escopo das variáveis \n",
        "\n",
        "Podemos entender o escopo como a 'área de atuação' de uma variável"
      ],
      "metadata": {
        "id": "cv58awEOcgFy"
      }
    },
    {
      "cell_type": "code",
      "source": [
        "# escopo global \n",
        "\n",
        "x = 25  "
      ],
      "metadata": {
        "id": "2i-XLINRcxom"
      },
      "execution_count": null,
      "outputs": []
    },
    {
      "cell_type": "code",
      "source": [
        "def printer(mult):\n",
        "  x = 50 \n",
        "  return mult * x"
      ],
      "metadata": {
        "id": "CXPzM_YMc_qI"
      },
      "execution_count": null,
      "outputs": []
    },
    {
      "cell_type": "code",
      "source": [
        "x\n"
      ],
      "metadata": {
        "colab": {
          "base_uri": "https://localhost:8080/"
        },
        "id": "kudnwW6ZdF5A",
        "outputId": "93fb2897-08bc-451f-adb3-2a5b3d46964b"
      },
      "execution_count": null,
      "outputs": [
        {
          "output_type": "execute_result",
          "data": {
            "text/plain": [
              "25"
            ]
          },
          "metadata": {},
          "execution_count": 27
        }
      ]
    },
    {
      "cell_type": "code",
      "source": [
        "printer(2)"
      ],
      "metadata": {
        "colab": {
          "base_uri": "https://localhost:8080/"
        },
        "id": "GSFp_jp4dOK2",
        "outputId": "e2ae5ac6-168c-497e-fbda-5cb912336983"
      },
      "execution_count": null,
      "outputs": [
        {
          "output_type": "execute_result",
          "data": {
            "text/plain": [
              "100"
            ]
          },
          "metadata": {},
          "execution_count": 35
        }
      ]
    },
    {
      "cell_type": "code",
      "source": [
        "def printer():\n",
        "  x = 50\n",
        "  return x\n",
        "printer()"
      ],
      "metadata": {
        "colab": {
          "base_uri": "https://localhost:8080/"
        },
        "id": "uOYJQTSndrpp",
        "outputId": "97126b06-e6f2-4888-92bd-bcb6296cab74"
      },
      "execution_count": null,
      "outputs": [
        {
          "output_type": "execute_result",
          "data": {
            "text/plain": [
              "50"
            ]
          },
          "metadata": {},
          "execution_count": 36
        }
      ]
    },
    {
      "cell_type": "markdown",
      "source": [
        "### 17. Args"
      ],
      "metadata": {
        "id": "F6DNX3u0e_0X"
      }
    },
    {
      "cell_type": "code",
      "source": [
        "# função que soma vários números\n",
        "# Neste caso estamos criando uma função que recebe três argumentos: a,b e c\n",
        "\n",
        "def soma_varios(a,b,c):\n",
        "  soma = sum((a,b,c)) # a função soma exige dois parenteses \n",
        "  return soma"
      ],
      "metadata": {
        "id": "gTA9reSTd7IR"
      },
      "execution_count": null,
      "outputs": []
    },
    {
      "cell_type": "code",
      "source": [
        "soma_varios(1,2,3)"
      ],
      "metadata": {
        "colab": {
          "base_uri": "https://localhost:8080/"
        },
        "id": "zccpGxrVeJVI",
        "outputId": "81ae5208-4442-4e39-af77-7ac7d62f37d1"
      },
      "execution_count": null,
      "outputs": [
        {
          "output_type": "execute_result",
          "data": {
            "text/plain": [
              "6"
            ]
          },
          "metadata": {},
          "execution_count": 39
        }
      ]
    },
    {
      "cell_type": "code",
      "source": [
        "# Com 5 argumentos\n",
        "\n",
        "def soma_varios(a, b, c, d, e):\n",
        "  soma = sum((a,b,c,d,e))\n",
        "  return soma\n",
        "\n",
        "  "
      ],
      "metadata": {
        "id": "60Ip3X5vejhv"
      },
      "execution_count": null,
      "outputs": []
    },
    {
      "cell_type": "code",
      "source": [
        "soma_varios(1,2,3,4,5,)"
      ],
      "metadata": {
        "colab": {
          "base_uri": "https://localhost:8080/"
        },
        "id": "TP9bM9Ype1Y-",
        "outputId": "178a2f21-ffe6-4106-d682-2b367213e99e"
      },
      "execution_count": null,
      "outputs": [
        {
          "output_type": "execute_result",
          "data": {
            "text/plain": [
              "15"
            ]
          },
          "metadata": {},
          "execution_count": 41
        }
      ]
    },
    {
      "cell_type": "code",
      "source": [
        "# args faz que tenhamos um numero indefinido de argumentos\n",
        "# E num caso de ter N argumentos (números idefinido), como seria?\n",
        "# Graças ao argumento *args, podemos dar a opção da função receber inúmeros argumentos\n",
        "\n",
        "\n",
        "def soma_varios(*args):\n",
        "  soma = sum(args)\n",
        "  return soma\n"
      ],
      "metadata": {
        "id": "_-X5arrUe6Gn"
      },
      "execution_count": null,
      "outputs": []
    },
    {
      "cell_type": "code",
      "source": [
        "soma_varios(1)\n"
      ],
      "metadata": {
        "colab": {
          "base_uri": "https://localhost:8080/"
        },
        "id": "_DthHI5LvDsR",
        "outputId": "b8e9c969-be77-435a-a433-99be37dfa707"
      },
      "execution_count": null,
      "outputs": [
        {
          "output_type": "execute_result",
          "data": {
            "text/plain": [
              "1"
            ]
          },
          "metadata": {},
          "execution_count": 45
        }
      ]
    },
    {
      "cell_type": "code",
      "source": [
        "soma_varios(1,2,3)"
      ],
      "metadata": {
        "colab": {
          "base_uri": "https://localhost:8080/"
        },
        "id": "MsMmHXQqvWKd",
        "outputId": "ceca33cd-7c4b-4444-c9a3-b94429199e33"
      },
      "execution_count": null,
      "outputs": [
        {
          "output_type": "execute_result",
          "data": {
            "text/plain": [
              "6"
            ]
          },
          "metadata": {},
          "execution_count": 46
        }
      ]
    },
    {
      "cell_type": "code",
      "source": [
        "soma_varios(1,2,3,4,5,6,7,8,9)"
      ],
      "metadata": {
        "colab": {
          "base_uri": "https://localhost:8080/"
        },
        "id": "uokYV51VvZEE",
        "outputId": "fb6d3e3e-3518-4e54-a2ce-c9ea63b881e6"
      },
      "execution_count": null,
      "outputs": [
        {
          "output_type": "execute_result",
          "data": {
            "text/plain": [
              "45"
            ]
          },
          "metadata": {},
          "execution_count": 47
        }
      ]
    },
    {
      "cell_type": "markdown",
      "source": [
        ""
      ],
      "metadata": {
        "id": "nylnG6N5viRL"
      }
    },
    {
      "cell_type": "markdown",
      "source": [
        "### 18. Kwargs\n",
        "De forma análoga ao args, o *kwargs toma a função capaz de receber argumentos que tem um nome\n"
      ],
      "metadata": {
        "id": "Z7RJGkC-vj4E"
      }
    },
    {
      "cell_type": "code",
      "source": [
        "# compra de ações\n",
        "\n",
        "def compra_de_acoes(**kwargs):\n",
        "  if 'acao' in kwargs:\n",
        "    print('A ação comprada foi ', kwargs['acao'])\n",
        "  else:\n",
        "    print('O cliente não investe em ações')"
      ],
      "metadata": {
        "id": "bmpegsyrvyP_"
      },
      "execution_count": null,
      "outputs": []
    },
    {
      "cell_type": "code",
      "source": [
        "compra_de_acoes(acao = 'PETR4')"
      ],
      "metadata": {
        "colab": {
          "base_uri": "https://localhost:8080/"
        },
        "id": "5FfcY7NOwnnQ",
        "outputId": "aa8b9f8a-6608-40af-f8f6-5827d39ce421"
      },
      "execution_count": null,
      "outputs": [
        {
          "output_type": "stream",
          "name": "stdout",
          "text": [
            "A ação comprada foi  PETR4\n"
          ]
        }
      ]
    },
    {
      "cell_type": "code",
      "source": [
        "compra_de_acoes()"
      ],
      "metadata": {
        "colab": {
          "base_uri": "https://localhost:8080/"
        },
        "id": "jBJb8BQhxVfY",
        "outputId": "619e7e13-f7a4-460f-8618-df51750c5726"
      },
      "execution_count": null,
      "outputs": [
        {
          "output_type": "stream",
          "name": "stdout",
          "text": [
            "O cliente não investe em ações\n"
          ]
        }
      ]
    },
    {
      "cell_type": "code",
      "source": [
        "def montagem_posicao(*args, **kwargs):\n",
        "  if 'acao' and 'lote' in kwargs:\n",
        "    print('O cliente montou uma posição de ',' e '.join(kwargs['acao'])) # join faz um numero indefinido de ativos ( kwargs argumento string)\n",
        "    print('Ele comprou ', ' e '.join(args), 'papéis respectivamente') # join com args por ser um argumento numerico \n",
        "    print('Totas elas foram compradas no lote', kwargs['lote']) # kwargs de lote para fazer a repetição "
      ],
      "metadata": {
        "id": "i4X7wIIJxbtM"
      },
      "execution_count": null,
      "outputs": []
    },
    {
      "cell_type": "code",
      "source": [
        "# args para numeros   |  kwargs de nome ação e lote \n",
        "montagem_posicao('100', '200', acao = ('PETR4', 'VALE3'), lote = 'inteiro')"
      ],
      "metadata": {
        "colab": {
          "base_uri": "https://localhost:8080/"
        },
        "id": "Vt59T3_k3Hx_",
        "outputId": "c1f9d3a5-268c-412b-d773-d2c4aadc38c0"
      },
      "execution_count": null,
      "outputs": [
        {
          "output_type": "stream",
          "name": "stdout",
          "text": [
            "O cliente montou uma posição de  PETR4 e VALE3\n",
            "Ele comprou  100 e 200 papéis respectivamente\n",
            "Totas elas foram compradas no lote inteiro\n"
          ]
        }
      ]
    }
  ]
}