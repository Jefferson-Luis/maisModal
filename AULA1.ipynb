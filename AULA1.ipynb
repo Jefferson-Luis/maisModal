{
  "nbformat": 4,
  "nbformat_minor": 0,
  "metadata": {
    "colab": {
      "name": "AULA1.ipynb",
      "provenance": [],
      "toc_visible": true,
      "mount_file_id": "1Jhgp9EKRrBHopqlr0oOnw25do8bKXodx",
      "authorship_tag": "ABX9TyObbrI2zbnp8ESe2irOX0y8",
      "include_colab_link": true
    },
    "kernelspec": {
      "name": "python3",
      "display_name": "Python 3"
    },
    "language_info": {
      "name": "python"
    }
  },
  "cells": [
    {
      "cell_type": "markdown",
      "metadata": {
        "id": "view-in-github",
        "colab_type": "text"
      },
      "source": [
        "<a href=\"https://colab.research.google.com/github/Jefferson-Luis/maisModal/blob/main/AULA1.ipynb\" target=\"_parent\"><img src=\"https://colab.research.google.com/assets/colab-badge.svg\" alt=\"Open In Colab\"/></a>"
      ]
    },
    {
      "cell_type": "markdown",
      "source": [
        "# Data Science com Python - Banco *Modal* \n",
        "## Módulo 01 - Introdução ao Python\n"
      ],
      "metadata": {
        "id": "zQgB75bsYTiD"
      }
    },
    {
      "cell_type": "markdown",
      "source": [
        "# Nova seção"
      ],
      "metadata": {
        "id": "_PXtW_JT_qAe"
      }
    },
    {
      "cell_type": "markdown",
      "source": [
        "<center><img src = \"https://upload.wikimedia.org/wikipedia/commons/1/1f/Python_logo_01.svg\" width = \"500\">"
      ],
      "metadata": {
        "id": "YloWfTitZo4h"
      }
    },
    {
      "cell_type": "markdown",
      "source": [
        "# 0.Hello World!"
      ],
      "metadata": {
        "id": "UOHD1a8fcmZB"
      }
    },
    {
      "cell_type": "markdown",
      "source": [
        "Tradicionalmente, o ensino  da programação inicia-se com o comando clássico \"Hello World\""
      ],
      "metadata": {
        "id": "EtjCM61KcjyE"
      }
    },
    {
      "cell_type": "code",
      "source": [
        "print(\"Hello World\")"
      ],
      "metadata": {
        "colab": {
          "base_uri": "https://localhost:8080/"
        },
        "id": "trItORrsdL-0",
        "outputId": "08741a9a-a09b-40e1-ed1b-76bcf68b1543"
      },
      "execution_count": null,
      "outputs": [
        {
          "output_type": "stream",
          "name": "stdout",
          "text": [
            "Hello World\n"
          ]
        }
      ]
    },
    {
      "cell_type": "code",
      "source": [
        "print(\"Olá, meu nome é Jefferson\")"
      ],
      "metadata": {
        "colab": {
          "base_uri": "https://localhost:8080/"
        },
        "id": "E7LCBonbdT36",
        "outputId": "741fb407-3c16-4870-a9ca-1a6a08a5bcb7"
      },
      "execution_count": null,
      "outputs": [
        {
          "output_type": "stream",
          "name": "stdout",
          "text": [
            "Olá, meu nome é Jefferson\n"
          ]
        }
      ]
    },
    {
      "cell_type": "markdown",
      "source": [
        "# 1. Váriaveis vs. Objetos"
      ],
      "metadata": {
        "id": "sUoc7pU0djzu"
      }
    },
    {
      "cell_type": "markdown",
      "source": [
        "### 1.1 Tipos de variáveis\n",
        "integer ( int) : 2\n",
        "float : 1.45789\n",
        "string (str): \"PETR4\"\n",
        "boolean(bool): True ou False"
      ],
      "metadata": {
        "id": "vkTt62y1doz1"
      }
    },
    {
      "cell_type": "code",
      "source": [
        "b = 5.5\n",
        "a = 3"
      ],
      "metadata": {
        "id": "1PryPsCAeVJK"
      },
      "execution_count": null,
      "outputs": []
    },
    {
      "cell_type": "code",
      "source": [
        "print(b)"
      ],
      "metadata": {
        "colab": {
          "base_uri": "https://localhost:8080/"
        },
        "id": "tEJp5edBeDjj",
        "outputId": "7068d0a1-facc-4908-c59f-115770a2caf8"
      },
      "execution_count": null,
      "outputs": [
        {
          "output_type": "stream",
          "name": "stdout",
          "text": [
            "5.5\n"
          ]
        }
      ]
    },
    {
      "cell_type": "code",
      "source": [
        "a + b"
      ],
      "metadata": {
        "colab": {
          "base_uri": "https://localhost:8080/"
        },
        "id": "a52MySq9ef7f",
        "outputId": "61fb9181-8143-490f-965b-f794dbe79033"
      },
      "execution_count": null,
      "outputs": [
        {
          "output_type": "execute_result",
          "data": {
            "text/plain": [
              "8.5"
            ]
          },
          "metadata": {},
          "execution_count": 8
        }
      ]
    },
    {
      "cell_type": "code",
      "source": [
        "type(a)"
      ],
      "metadata": {
        "colab": {
          "base_uri": "https://localhost:8080/"
        },
        "id": "nJ47cn3Pezp9",
        "outputId": "b67a1b4e-9f43-4720-98a6-ace6112a1051"
      },
      "execution_count": null,
      "outputs": [
        {
          "output_type": "execute_result",
          "data": {
            "text/plain": [
              "int"
            ]
          },
          "metadata": {},
          "execution_count": 9
        }
      ]
    },
    {
      "cell_type": "code",
      "source": [
        "type(b)"
      ],
      "metadata": {
        "colab": {
          "base_uri": "https://localhost:8080/"
        },
        "id": "E9-MgfPse3v6",
        "outputId": "8383d148-bd71-47ed-9dde-b765fe500a37"
      },
      "execution_count": null,
      "outputs": [
        {
          "output_type": "execute_result",
          "data": {
            "text/plain": [
              "float"
            ]
          },
          "metadata": {},
          "execution_count": 10
        }
      ]
    },
    {
      "cell_type": "code",
      "source": [
        "ativo = \"WEGE3\" "
      ],
      "metadata": {
        "id": "8CMtuK3Ue5AN"
      },
      "execution_count": null,
      "outputs": []
    },
    {
      "cell_type": "code",
      "source": [
        "ativo"
      ],
      "metadata": {
        "colab": {
          "base_uri": "https://localhost:8080/",
          "height": 36
        },
        "id": "RRF0O_VVfH1f",
        "outputId": "fd537250-026c-4c09-d511-6f58ea885a24"
      },
      "execution_count": null,
      "outputs": [
        {
          "output_type": "execute_result",
          "data": {
            "text/plain": [
              "'WEGE3'"
            ],
            "application/vnd.google.colaboratory.intrinsic+json": {
              "type": "string"
            }
          },
          "metadata": {},
          "execution_count": 13
        }
      ]
    },
    {
      "cell_type": "code",
      "source": [
        "type(ativo)"
      ],
      "metadata": {
        "colab": {
          "base_uri": "https://localhost:8080/"
        },
        "id": "-ANxBkuBfP1a",
        "outputId": "423ac960-32e1-4065-c51d-04346802b004"
      },
      "execution_count": null,
      "outputs": [
        {
          "output_type": "execute_result",
          "data": {
            "text/plain": [
              "str"
            ]
          },
          "metadata": {},
          "execution_count": 14
        }
      ]
    },
    {
      "cell_type": "code",
      "source": [
        "b == a"
      ],
      "metadata": {
        "colab": {
          "base_uri": "https://localhost:8080/"
        },
        "id": "Vqui_SAzfUhA",
        "outputId": "a7371a8e-cacd-4ce1-e702-4908573dcbf4"
      },
      "execution_count": null,
      "outputs": [
        {
          "output_type": "execute_result",
          "data": {
            "text/plain": [
              "False"
            ]
          },
          "metadata": {},
          "execution_count": 15
        }
      ]
    },
    {
      "cell_type": "code",
      "source": [
        "a = b\n",
        "b == a"
      ],
      "metadata": {
        "colab": {
          "base_uri": "https://localhost:8080/"
        },
        "id": "eSVlQtD_ffw0",
        "outputId": "f2906af9-1ca5-45a5-d4a8-29e998a0b122"
      },
      "execution_count": null,
      "outputs": [
        {
          "output_type": "execute_result",
          "data": {
            "text/plain": [
              "True"
            ]
          },
          "metadata": {},
          "execution_count": 16
        }
      ]
    },
    {
      "cell_type": "code",
      "source": [
        "c = a == b\n",
        "c"
      ],
      "metadata": {
        "colab": {
          "base_uri": "https://localhost:8080/"
        },
        "id": "FqCcKGJ_fp7B",
        "outputId": "5966ae81-f4c1-44f7-c47d-f9cc20439a55"
      },
      "execution_count": null,
      "outputs": [
        {
          "output_type": "execute_result",
          "data": {
            "text/plain": [
              "True"
            ]
          },
          "metadata": {},
          "execution_count": 17
        }
      ]
    },
    {
      "cell_type": "markdown",
      "source": [
        "# 2. Operadores aritméticos\n"
      ],
      "metadata": {
        "id": "Szjwxb8Cfw5s"
      }
    },
    {
      "cell_type": "markdown",
      "source": [
        "* Soma + \n",
        "\n",
        "* Subtração -\n",
        "\n",
        "* Multiplicação *\n",
        "\n",
        "* Divisão /\n",
        "\n",
        "* Divisão // ( parte inteira)\n",
        "\n",
        "* Resto das divisões %\n",
        "\n",
        "* Potência **\n",
        "\n"
      ],
      "metadata": {
        "id": "sOPUahQmf2JJ"
      }
    },
    {
      "cell_type": "code",
      "source": [
        "#  SOMA\n",
        "\n",
        "d = a + b\n",
        "d"
      ],
      "metadata": {
        "colab": {
          "base_uri": "https://localhost:8080/"
        },
        "id": "fneWFVKNgVGW",
        "outputId": "eda710c1-a99c-418c-b486-d20be8d3a08e"
      },
      "execution_count": null,
      "outputs": [
        {
          "output_type": "execute_result",
          "data": {
            "text/plain": [
              "11.0"
            ]
          },
          "metadata": {},
          "execution_count": 20
        }
      ]
    },
    {
      "cell_type": "code",
      "source": [
        "e = d + a + b + d + d\n",
        "e"
      ],
      "metadata": {
        "colab": {
          "base_uri": "https://localhost:8080/"
        },
        "id": "oV2ys-f3gsnv",
        "outputId": "f345ad38-dd11-49ff-b97e-c1a59ee4105d"
      },
      "execution_count": null,
      "outputs": [
        {
          "output_type": "execute_result",
          "data": {
            "text/plain": [
              "44.0"
            ]
          },
          "metadata": {},
          "execution_count": 22
        }
      ]
    },
    {
      "cell_type": "markdown",
      "source": [
        "Subtração"
      ],
      "metadata": {
        "id": "dlR3RisbhAZD"
      }
    },
    {
      "cell_type": "code",
      "source": [
        "a - b"
      ],
      "metadata": {
        "colab": {
          "base_uri": "https://localhost:8080/"
        },
        "id": "hgX0jWKfhCrM",
        "outputId": "e5b8ad5e-9731-419a-8bef-7819d7847a05"
      },
      "execution_count": null,
      "outputs": [
        {
          "output_type": "execute_result",
          "data": {
            "text/plain": [
              "0.0"
            ]
          },
          "metadata": {},
          "execution_count": 23
        }
      ]
    },
    {
      "cell_type": "code",
      "source": [
        "e - d"
      ],
      "metadata": {
        "colab": {
          "base_uri": "https://localhost:8080/"
        },
        "id": "uCy5Mf0ehHro",
        "outputId": "e133a426-aab8-44e7-bbf9-e8e48c42619c"
      },
      "execution_count": null,
      "outputs": [
        {
          "output_type": "execute_result",
          "data": {
            "text/plain": [
              "33.0"
            ]
          },
          "metadata": {},
          "execution_count": 24
        }
      ]
    },
    {
      "cell_type": "markdown",
      "source": [
        "Multiplicação"
      ],
      "metadata": {
        "id": "hK7d19vLhKNm"
      }
    },
    {
      "cell_type": "code",
      "source": [
        "a * 5"
      ],
      "metadata": {
        "colab": {
          "base_uri": "https://localhost:8080/"
        },
        "id": "lGLwoN5HhLro",
        "outputId": "4f13653e-0af3-42d2-fe34-69796feb61bd"
      },
      "execution_count": null,
      "outputs": [
        {
          "output_type": "execute_result",
          "data": {
            "text/plain": [
              "27.5"
            ]
          },
          "metadata": {},
          "execution_count": 25
        }
      ]
    },
    {
      "cell_type": "code",
      "source": [
        "f = 10\n",
        "e*f"
      ],
      "metadata": {
        "colab": {
          "base_uri": "https://localhost:8080/"
        },
        "id": "AckBLV1ahQep",
        "outputId": "feb4d7ea-6159-4cb1-e46d-50f3b76a2b76"
      },
      "execution_count": null,
      "outputs": [
        {
          "output_type": "execute_result",
          "data": {
            "text/plain": [
              "440.0"
            ]
          },
          "metadata": {},
          "execution_count": 28
        }
      ]
    },
    {
      "cell_type": "markdown",
      "source": [
        "Exemplo\n",
        "Qual o tamanho da minha posição em PETR4 dados o número de papéis que comprei e a cotação atual?"
      ],
      "metadata": {
        "id": "mVRoBd4hhkgK"
      }
    },
    {
      "cell_type": "code",
      "source": [
        "cotacao = 33.32\n",
        "papeis = 100"
      ],
      "metadata": {
        "id": "Zr7cnxjYhr-v"
      },
      "execution_count": null,
      "outputs": []
    },
    {
      "cell_type": "code",
      "source": [
        "patrimonio = cotacao*papeis"
      ],
      "metadata": {
        "id": "OkisfInnhzyY"
      },
      "execution_count": null,
      "outputs": []
    },
    {
      "cell_type": "code",
      "source": [
        "patrimonio"
      ],
      "metadata": {
        "colab": {
          "base_uri": "https://localhost:8080/"
        },
        "id": "8YFevceJh48p",
        "outputId": "0b3572f0-ea44-4090-d517-4378b859c675"
      },
      "execution_count": null,
      "outputs": [
        {
          "output_type": "execute_result",
          "data": {
            "text/plain": [
              "3332.0"
            ]
          },
          "metadata": {},
          "execution_count": 33
        }
      ]
    },
    {
      "cell_type": "markdown",
      "source": [
        "Qual o preço atual?"
      ],
      "metadata": {
        "id": "-ezmQ8nMiL54"
      }
    },
    {
      "cell_type": "code",
      "source": [
        "patrimonio/papeis"
      ],
      "metadata": {
        "colab": {
          "base_uri": "https://localhost:8080/"
        },
        "id": "GGY3wx-wiP_B",
        "outputId": "179f1609-60f3-46b1-db4e-bb59d4f763b2"
      },
      "execution_count": null,
      "outputs": [
        {
          "output_type": "execute_result",
          "data": {
            "text/plain": [
              "33.32"
            ]
          },
          "metadata": {},
          "execution_count": 34
        }
      ]
    },
    {
      "cell_type": "markdown",
      "source": [
        "Exemplo com VALE3 - qual o número de papéis que eu possa comprar?"
      ],
      "metadata": {
        "id": "grltdLTLiX6S"
      }
    },
    {
      "cell_type": "code",
      "source": [
        "carteira = 4000\n",
        "vale3 = 50.32"
      ],
      "metadata": {
        "id": "AdSU3-k8ie3N"
      },
      "execution_count": null,
      "outputs": []
    },
    {
      "cell_type": "code",
      "source": [
        "carteira / vale3"
      ],
      "metadata": {
        "colab": {
          "base_uri": "https://localhost:8080/"
        },
        "id": "c1m700Ggij13",
        "outputId": "431f17ba-6d38-4b66-c4d2-03d314307fde"
      },
      "execution_count": null,
      "outputs": [
        {
          "output_type": "execute_result",
          "data": {
            "text/plain": [
              "79.4912559618442"
            ]
          },
          "metadata": {},
          "execution_count": 37
        }
      ]
    },
    {
      "cell_type": "markdown",
      "source": [
        "Divisão como resultado a parte inteira"
      ],
      "metadata": {
        "id": "PPGx2xFuisp7"
      }
    },
    {
      "cell_type": "code",
      "source": [
        "carteira//vale3"
      ],
      "metadata": {
        "colab": {
          "base_uri": "https://localhost:8080/"
        },
        "id": "Aatk0WW4ivor",
        "outputId": "959fbd75-ed3f-4d54-a663-aa97a9060a0d"
      },
      "execution_count": null,
      "outputs": [
        {
          "output_type": "execute_result",
          "data": {
            "text/plain": [
              "79.0"
            ]
          },
          "metadata": {},
          "execution_count": 38
        }
      ]
    },
    {
      "cell_type": "code",
      "source": [
        "10//4"
      ],
      "metadata": {
        "colab": {
          "base_uri": "https://localhost:8080/"
        },
        "id": "ycWF8dWGi1jG",
        "outputId": "e34ab351-0232-4082-bd73-cc3e1faf5e04"
      },
      "execution_count": null,
      "outputs": [
        {
          "output_type": "execute_result",
          "data": {
            "text/plain": [
              "2"
            ]
          },
          "metadata": {},
          "execution_count": 39
        }
      ]
    },
    {
      "cell_type": "markdown",
      "source": [
        "Resto da Divisão"
      ],
      "metadata": {
        "id": "xOyh-vRli4uv"
      }
    },
    {
      "cell_type": "code",
      "source": [
        "7/4"
      ],
      "metadata": {
        "colab": {
          "base_uri": "https://localhost:8080/"
        },
        "id": "zfXvxo4ti7ST",
        "outputId": "905d5613-4a15-4452-bc9b-2dbb19b0e7ae"
      },
      "execution_count": null,
      "outputs": [
        {
          "output_type": "execute_result",
          "data": {
            "text/plain": [
              "1.75"
            ]
          },
          "metadata": {},
          "execution_count": 40
        }
      ]
    },
    {
      "cell_type": "code",
      "source": [
        "7 % 4"
      ],
      "metadata": {
        "colab": {
          "base_uri": "https://localhost:8080/"
        },
        "id": "8kP2YI6Ei99u",
        "outputId": "ddbb4ef9-a991-40a0-8a4e-438277a4cf28"
      },
      "execution_count": null,
      "outputs": [
        {
          "output_type": "execute_result",
          "data": {
            "text/plain": [
              "3"
            ]
          },
          "metadata": {},
          "execution_count": 41
        }
      ]
    },
    {
      "cell_type": "code",
      "source": [
        "10/3"
      ],
      "metadata": {
        "colab": {
          "base_uri": "https://localhost:8080/"
        },
        "id": "1tjs8nAzjCcP",
        "outputId": "1e13cbf7-ef6e-4db1-a191-5ffd6d431bc1"
      },
      "execution_count": null,
      "outputs": [
        {
          "output_type": "execute_result",
          "data": {
            "text/plain": [
              "3.3333333333333335"
            ]
          },
          "metadata": {},
          "execution_count": 42
        }
      ]
    },
    {
      "cell_type": "code",
      "source": [
        "10 % 3"
      ],
      "metadata": {
        "colab": {
          "base_uri": "https://localhost:8080/"
        },
        "id": "tEcF5koojD3U",
        "outputId": "8c7246a6-ba94-4ba5-b2e3-634776c39904"
      },
      "execution_count": null,
      "outputs": [
        {
          "output_type": "execute_result",
          "data": {
            "text/plain": [
              "1"
            ]
          },
          "metadata": {},
          "execution_count": 43
        }
      ]
    },
    {
      "cell_type": "markdown",
      "source": [
        "Potencia"
      ],
      "metadata": {
        "id": "MdCkeneIjIMD"
      }
    },
    {
      "cell_type": "code",
      "source": [
        "2**2"
      ],
      "metadata": {
        "colab": {
          "base_uri": "https://localhost:8080/"
        },
        "id": "4k6GMWdHjKj1",
        "outputId": "793ba095-94db-4e80-86d0-a30e8dbe3e67"
      },
      "execution_count": null,
      "outputs": [
        {
          "output_type": "execute_result",
          "data": {
            "text/plain": [
              "4"
            ]
          },
          "metadata": {},
          "execution_count": 44
        }
      ]
    },
    {
      "cell_type": "code",
      "source": [
        "2**3"
      ],
      "metadata": {
        "colab": {
          "base_uri": "https://localhost:8080/"
        },
        "id": "2NbjHCpajONL",
        "outputId": "dd262ebf-6110-4115-a366-869a587025a4"
      },
      "execution_count": null,
      "outputs": [
        {
          "output_type": "execute_result",
          "data": {
            "text/plain": [
              "8"
            ]
          },
          "metadata": {},
          "execution_count": 45
        }
      ]
    },
    {
      "cell_type": "code",
      "source": [
        "2**10"
      ],
      "metadata": {
        "colab": {
          "base_uri": "https://localhost:8080/"
        },
        "id": "xJFnCbrKjRIY",
        "outputId": "38503ac6-0686-4f51-fb1f-3f195258a4a0"
      },
      "execution_count": null,
      "outputs": [
        {
          "output_type": "execute_result",
          "data": {
            "text/plain": [
              "1024"
            ]
          },
          "metadata": {},
          "execution_count": 46
        }
      ]
    },
    {
      "cell_type": "markdown",
      "source": [
        "##3.Operador lógico"
      ],
      "metadata": {
        "id": "bn-oU1sxjQkj"
      }
    },
    {
      "cell_type": "markdown",
      "source": [
        "### 3.1 Operadores comparativos"
      ],
      "metadata": {
        "id": "1LcmqsNrjd9G"
      }
    },
    {
      "cell_type": "markdown",
      "source": [
        "* Igualdade ==\n",
        "\n",
        "* Diferença !=\n",
        "\n",
        "* Menor <\n",
        "\n",
        "* Maior >\n",
        "\n",
        "* Menor ou igual <=\n",
        "\n",
        "* Maior ou igual >="
      ],
      "metadata": {
        "id": "mXypUTqQjtJF"
      }
    },
    {
      "cell_type": "code",
      "source": [
        "e == f"
      ],
      "metadata": {
        "colab": {
          "base_uri": "https://localhost:8080/"
        },
        "id": "UqCHO105jYK3",
        "outputId": "b98a3a9c-fd8b-41d4-8de4-8ea4c8f91e89"
      },
      "execution_count": null,
      "outputs": [
        {
          "output_type": "execute_result",
          "data": {
            "text/plain": [
              "False"
            ]
          },
          "metadata": {},
          "execution_count": 47
        }
      ]
    },
    {
      "cell_type": "code",
      "source": [
        "e != f"
      ],
      "metadata": {
        "colab": {
          "base_uri": "https://localhost:8080/"
        },
        "id": "nNToe7COkJE1",
        "outputId": "52e0d981-2807-49fc-f568-6d7380cc9e35"
      },
      "execution_count": null,
      "outputs": [
        {
          "output_type": "execute_result",
          "data": {
            "text/plain": [
              "True"
            ]
          },
          "metadata": {},
          "execution_count": 48
        }
      ]
    },
    {
      "cell_type": "code",
      "source": [
        "e < f"
      ],
      "metadata": {
        "colab": {
          "base_uri": "https://localhost:8080/"
        },
        "id": "wAFzyavxkN4M",
        "outputId": "0c5b2ce5-f06d-4224-fa0f-33b12667e0f2"
      },
      "execution_count": null,
      "outputs": [
        {
          "output_type": "execute_result",
          "data": {
            "text/plain": [
              "False"
            ]
          },
          "metadata": {},
          "execution_count": 50
        }
      ]
    },
    {
      "cell_type": "code",
      "source": [
        "e > f"
      ],
      "metadata": {
        "colab": {
          "base_uri": "https://localhost:8080/"
        },
        "id": "Vgx8l6sfkVav",
        "outputId": "288bf139-88b2-4378-dc06-95b665be6125"
      },
      "execution_count": null,
      "outputs": [
        {
          "output_type": "execute_result",
          "data": {
            "text/plain": [
              "True"
            ]
          },
          "metadata": {},
          "execution_count": 51
        }
      ]
    },
    {
      "cell_type": "code",
      "source": [
        "g = 5\n",
        "h = 5"
      ],
      "metadata": {
        "id": "2nS-LSz9kbFB"
      },
      "execution_count": null,
      "outputs": []
    },
    {
      "cell_type": "code",
      "source": [
        "g <= h"
      ],
      "metadata": {
        "colab": {
          "base_uri": "https://localhost:8080/"
        },
        "id": "d70pOv5aket8",
        "outputId": "e8059da8-14e7-4b1b-dd37-470d029273c6"
      },
      "execution_count": null,
      "outputs": [
        {
          "output_type": "execute_result",
          "data": {
            "text/plain": [
              "True"
            ]
          },
          "metadata": {},
          "execution_count": 54
        }
      ]
    },
    {
      "cell_type": "code",
      "source": [
        "g >=h"
      ],
      "metadata": {
        "colab": {
          "base_uri": "https://localhost:8080/"
        },
        "id": "YuCK-TOGkjg9",
        "outputId": "ced38cd4-cacb-4415-d836-cba78fc73ea4"
      },
      "execution_count": null,
      "outputs": [
        {
          "output_type": "execute_result",
          "data": {
            "text/plain": [
              "True"
            ]
          },
          "metadata": {},
          "execution_count": 55
        }
      ]
    },
    {
      "cell_type": "code",
      "source": [
        "papel1 = 'VALE3'\n",
        "papel2 = 'PETRO4'"
      ],
      "metadata": {
        "id": "iV_pGSPukoVA"
      },
      "execution_count": null,
      "outputs": []
    },
    {
      "cell_type": "code",
      "source": [
        "papel1 == papel2"
      ],
      "metadata": {
        "colab": {
          "base_uri": "https://localhost:8080/"
        },
        "id": "esIn0KEqk3cE",
        "outputId": "bd054d06-8319-4c01-db67-aa63ea6c3e5c"
      },
      "execution_count": null,
      "outputs": [
        {
          "output_type": "execute_result",
          "data": {
            "text/plain": [
              "False"
            ]
          },
          "metadata": {},
          "execution_count": 57
        }
      ]
    },
    {
      "cell_type": "code",
      "source": [
        "papel1 != papel2"
      ],
      "metadata": {
        "colab": {
          "base_uri": "https://localhost:8080/"
        },
        "id": "owpQjhQBk6GM",
        "outputId": "02ad4a43-9163-4cfd-d715-a07cb7b46060"
      },
      "execution_count": null,
      "outputs": [
        {
          "output_type": "execute_result",
          "data": {
            "text/plain": [
              "True"
            ]
          },
          "metadata": {},
          "execution_count": 58
        }
      ]
    },
    {
      "cell_type": "code",
      "source": [
        ""
      ],
      "metadata": {
        "id": "Sg2-YWC1k-fY"
      },
      "execution_count": null,
      "outputs": []
    },
    {
      "cell_type": "markdown",
      "source": [
        "### 3.2. Operadores condicionais "
      ],
      "metadata": {
        "id": "b3QTzpeqlAdf"
      }
    },
    {
      "cell_type": "markdown",
      "source": [
        "* and\n",
        "\n",
        "* or"
      ],
      "metadata": {
        "id": "q0dVGOUVlHO8"
      }
    },
    {
      "cell_type": "code",
      "source": [
        "e > f and g >= h"
      ],
      "metadata": {
        "colab": {
          "base_uri": "https://localhost:8080/"
        },
        "id": "xCouEO_slLAM",
        "outputId": "a02a85ad-3c74-4f3f-d2e9-8dc1d8096ea2"
      },
      "execution_count": null,
      "outputs": [
        {
          "output_type": "execute_result",
          "data": {
            "text/plain": [
              "True"
            ]
          },
          "metadata": {},
          "execution_count": 59
        }
      ]
    },
    {
      "cell_type": "code",
      "source": [
        "e < f "
      ],
      "metadata": {
        "colab": {
          "base_uri": "https://localhost:8080/"
        },
        "id": "rNqPJwoJlR0g",
        "outputId": "c4210b0f-0bb0-4293-88a4-ff0ece6d136e"
      },
      "execution_count": null,
      "outputs": [
        {
          "output_type": "execute_result",
          "data": {
            "text/plain": [
              "False"
            ]
          },
          "metadata": {},
          "execution_count": 60
        }
      ]
    },
    {
      "cell_type": "code",
      "source": [
        "e < f and g >= h"
      ],
      "metadata": {
        "colab": {
          "base_uri": "https://localhost:8080/"
        },
        "id": "CIakKwBHlWIl",
        "outputId": "9cd29de7-f142-4e7b-e1e9-6d8730175c72"
      },
      "execution_count": null,
      "outputs": [
        {
          "output_type": "execute_result",
          "data": {
            "text/plain": [
              "False"
            ]
          },
          "metadata": {},
          "execution_count": 61
        }
      ]
    },
    {
      "cell_type": "code",
      "source": [
        "e < f or g >= h"
      ],
      "metadata": {
        "colab": {
          "base_uri": "https://localhost:8080/"
        },
        "id": "nj_MJWoNlg6f",
        "outputId": "c6ba48ed-dc0c-4090-8fd4-bec92476e0b6"
      },
      "execution_count": null,
      "outputs": [
        {
          "output_type": "execute_result",
          "data": {
            "text/plain": [
              "True"
            ]
          },
          "metadata": {},
          "execution_count": 62
        }
      ]
    },
    {
      "cell_type": "code",
      "source": [
        "e < f or g > h"
      ],
      "metadata": {
        "colab": {
          "base_uri": "https://localhost:8080/"
        },
        "id": "X5SZHWdqln8s",
        "outputId": "ce571e42-1b49-4450-9f31-5c26398fd8c3"
      },
      "execution_count": null,
      "outputs": [
        {
          "output_type": "execute_result",
          "data": {
            "text/plain": [
              "False"
            ]
          },
          "metadata": {},
          "execution_count": 63
        }
      ]
    },
    {
      "cell_type": "code",
      "source": [
        "e < f and g >= h"
      ],
      "metadata": {
        "id": "gH03H_MAlvSm",
        "outputId": "3c859590-5cef-407e-d881-c0ba1ad76db9",
        "colab": {
          "base_uri": "https://localhost:8080/"
        }
      },
      "execution_count": null,
      "outputs": [
        {
          "output_type": "execute_result",
          "data": {
            "text/plain": [
              "False"
            ]
          },
          "metadata": {},
          "execution_count": 64
        }
      ]
    }
  ]
}