{
  "nbformat": 4,
  "nbformat_minor": 0,
  "metadata": {
    "colab": {
      "name": "Aula3.ipynb",
      "provenance": [],
      "authorship_tag": "ABX9TyN4qZDuYBzerzmcGQTVP4+U",
      "include_colab_link": true
    },
    "kernelspec": {
      "name": "python3",
      "display_name": "Python 3"
    },
    "language_info": {
      "name": "python"
    }
  },
  "cells": [
    {
      "cell_type": "markdown",
      "metadata": {
        "id": "view-in-github",
        "colab_type": "text"
      },
      "source": [
        "<a href=\"https://colab.research.google.com/github/Jefferson-Luis/maisModal/blob/main/Aula3.ipynb\" target=\"_parent\"><img src=\"https://colab.research.google.com/assets/colab-badge.svg\" alt=\"Open In Colab\"/></a>"
      ]
    },
    {
      "cell_type": "markdown",
      "source": [
        "## 9. Declarações condicionais\n"
      ],
      "metadata": {
        "id": "7v_YrXLdSPbz"
      }
    },
    {
      "cell_type": "markdown",
      "source": [
        "Em liguagens de programação, frequentemente devemos criar estruturas e comandos para atuar de acordo com condições específicas, ou seja, apenas se alguma condição for satisfeita."
      ],
      "metadata": {
        "id": "qpEQ-j2RUZNf"
      }
    },
    {
      "cell_type": "code",
      "source": [
        "# Exemplo: Determinar o preço atual de um ativo e o seu preço alvo de compra\n",
        "\n",
        "preco_azul = 35.28\n",
        "preco_alvo = 30 "
      ],
      "metadata": {
        "id": "ogE87qV0UQmg"
      },
      "execution_count": null,
      "outputs": []
    },
    {
      "cell_type": "code",
      "source": [
        "# Comando if ('se', em portugues), estabelecendo uma declaração condicional.Importante destacar a indentação das declarações\n",
        "# elif é uma contração de else if\n",
        "\n",
        "if preco_azul < 30 :\n",
        "  print('Compre, preço muito descontado!')\n",
        "elif preco_azul < 33:\n",
        "  print('Ainda com tendência de queda, espere um pouco mais !')\n",
        "elif preco_azul <=36:\n",
        "  print('Iniciou tendência de queda, espere cair até 30 !')\n",
        "else:\n",
        "  print('Espere !')"
      ],
      "metadata": {
        "colab": {
          "base_uri": "https://localhost:8080/"
        },
        "id": "cfe1YsNWUVo1",
        "outputId": "15293077-4ff8-4086-dd18-6a89efba7044"
      },
      "execution_count": null,
      "outputs": [
        {
          "output_type": "stream",
          "name": "stdout",
          "text": [
            "Iniciou tendência de queda, espere cair até 30 !\n"
          ]
        }
      ]
    },
    {
      "cell_type": "code",
      "source": [
        "#  Ressaltando a estrutura da declaração condicional  -> if seguindo da condiçao e \" : \" no fim.\n",
        "# Na linha seguinte, identação e comando caso a condição seja verdadeira\n",
        "\n",
        "preco_weg = 19\n",
        "preco_alvo = 33\n",
        "\n",
        "if preco_weg > preco_alvo:\n",
        "  print('Espere')\n",
        "else:\n",
        "  print('Compre!')"
      ],
      "metadata": {
        "colab": {
          "base_uri": "https://localhost:8080/"
        },
        "id": "2qErB8dLVDRE",
        "outputId": "20b654be-16a4-49af-f41a-dd3e2590fa6b"
      },
      "execution_count": null,
      "outputs": [
        {
          "output_type": "stream",
          "name": "stdout",
          "text": [
            "Compre!\n"
          ]
        }
      ]
    },
    {
      "cell_type": "code",
      "source": [
        "# Importante observar que as condições vão sendo checagas pela ordem em que foram declaradas.\n",
        "# Assim que uma delas é satisfeita, as demais não são executadas mais\n",
        "\n",
        "if preco_weg < 25:\n",
        "  print('Compre, preço muito descontado ! ')\n",
        "elif preco_weg < 30:\n",
        "  print('Ainda em tendência de queda, espere um pouco mais !')\n",
        "elif preco_weg <= 32:\n",
        "  print('Iniciou tendência de queda, espere cair até 25')\n",
        "else:\n",
        "  print('Espere!')"
      ],
      "metadata": {
        "colab": {
          "base_uri": "https://localhost:8080/"
        },
        "id": "eHKCGOQYWawL",
        "outputId": "4ecb0d6a-2db0-4dea-e387-84d30a429302"
      },
      "execution_count": null,
      "outputs": [
        {
          "output_type": "stream",
          "name": "stdout",
          "text": [
            "Compre, preço muito descontado ! \n"
          ]
        }
      ]
    },
    {
      "cell_type": "code",
      "source": [
        "# Trocando a ordem das declarações. Note que assim que atendeu a primeira, as demais seram ignoradas\n",
        "\n",
        "if preco_weg < 30:\n",
        "  print('Ainda em tendência de queda, espere um pouco mais !')\n",
        "\n",
        "elif preco_weg < 25:\n",
        "  print('Compre, preço muito descontado ! ')\n",
        "\n",
        "elif preco_weg <= 32:\n",
        "  print('Iniciou tendência de queda, espere cair até 25')\n",
        "else:\n",
        "  print('Espere!')"
      ],
      "metadata": {
        "colab": {
          "base_uri": "https://localhost:8080/"
        },
        "id": "MXG4shLpZEgX",
        "outputId": "0e680cb0-d206-4d65-aac9-8f1eaa08b6c9"
      },
      "execution_count": null,
      "outputs": [
        {
          "output_type": "stream",
          "name": "stdout",
          "text": [
            "Ainda em tendência de queda, espere um pouco mais !\n"
          ]
        }
      ]
    },
    {
      "cell_type": "markdown",
      "source": [
        "## 10. Estruturas de repetição"
      ],
      "metadata": {
        "id": "icz1ima9Zk48"
      }
    },
    {
      "cell_type": "markdown",
      "source": [
        "Além das estruturas ( ou declarações) condicionais, as estruturas de repetição são muito importantes na sintaxe de qualquer linguagem de programação. Imagine que você queira automatizar uma tarefa, informando que ela deve ocorrer por determinadas vezes ou até que outra condição seja estabelecida."
      ],
      "metadata": {
        "id": "bjJsT_nFZo0Z"
      }
    },
    {
      "cell_type": "markdown",
      "source": [
        "## 10.1 For"
      ],
      "metadata": {
        "id": "LXi_gs94aAVM"
      }
    },
    {
      "cell_type": "code",
      "source": [
        "lista = ['João','José', 'Andre', 'Marcos']"
      ],
      "metadata": {
        "id": "X214vafQaIQG"
      },
      "execution_count": null,
      "outputs": []
    },
    {
      "cell_type": "code",
      "source": [
        "# Para cada item dentro da lista, imprima o item, Essa automação também é conhecida como loop\n",
        "for nome in lista:\n",
        "  print(nome)"
      ],
      "metadata": {
        "colab": {
          "base_uri": "https://localhost:8080/"
        },
        "id": "z-jYswlyaV8S",
        "outputId": "ff680cfb-3b62-428b-afa3-281a8021309b"
      },
      "execution_count": null,
      "outputs": [
        {
          "output_type": "stream",
          "name": "stdout",
          "text": [
            "João\n",
            "José\n",
            "Andre\n",
            "Marcos\n"
          ]
        }
      ]
    },
    {
      "cell_type": "code",
      "source": [
        "# Embora tenha usado a palavra nome, o Python compreende que esto determinando elementos/ itens de uma lista. Assim, poderia utilizar qualquer \"nome\" para descrever esses itens\n",
        "\n",
        "for proprietario_automovel in lista:\n",
        "  print(proprietario_automovel)"
      ],
      "metadata": {
        "colab": {
          "base_uri": "https://localhost:8080/"
        },
        "id": "w2aROP9Qbk6H",
        "outputId": "bff33c4c-6747-46b3-e1fd-a7df9528a072"
      },
      "execution_count": null,
      "outputs": [
        {
          "output_type": "stream",
          "name": "stdout",
          "text": [
            "João\n",
            "José\n",
            "Andre\n",
            "Marcos\n"
          ]
        }
      ]
    },
    {
      "cell_type": "code",
      "source": [
        "lista_ativos = ['PETR4.SA', 'WEGE3.SA','MGLU3.SA', 'LREN3.SA','RENT3.SA','VALE3.SA']\n"
      ],
      "metadata": {
        "id": "l8U2YnjicCF5"
      },
      "execution_count": null,
      "outputs": []
    },
    {
      "cell_type": "code",
      "source": [
        "lista_ativos"
      ],
      "metadata": {
        "colab": {
          "base_uri": "https://localhost:8080/"
        },
        "id": "QYfD8xgdcyTA",
        "outputId": "779ea44a-85e7-4a2f-8682-ca0594d39924"
      },
      "execution_count": null,
      "outputs": [
        {
          "output_type": "execute_result",
          "data": {
            "text/plain": [
              "['PETR4.SA', 'WEGE3.SA', 'MGLU3.SA', 'LREN3.SA', 'RENT3.SA', 'VALE3.SA']"
            ]
          },
          "metadata": {},
          "execution_count": 20
        }
      ]
    },
    {
      "cell_type": "code",
      "source": [
        "for acoes in lista_ativos:\n",
        "  print(acoes,'é um ativo da B3')"
      ],
      "metadata": {
        "colab": {
          "base_uri": "https://localhost:8080/"
        },
        "id": "-CSsuskhdKAv",
        "outputId": "585cfb83-e168-4182-a127-d215a78874c8"
      },
      "execution_count": null,
      "outputs": [
        {
          "output_type": "stream",
          "name": "stdout",
          "text": [
            "PETR4.SA é um ativo da B3\n",
            "WEGE3.SA é um ativo da B3\n",
            "MGLU3.SA é um ativo da B3\n",
            "LREN3.SA é um ativo da B3\n",
            "RENT3.SA é um ativo da B3\n",
            "VALE3.SA é um ativo da B3\n"
          ]
        }
      ]
    },
    {
      "cell_type": "code",
      "source": [
        "# Automação usando a função break para interroper o loop assim que tenha condição for satisfeita(integrando 'for' e 'if')\n",
        "# ATENÇÃO à indentação correta\n",
        "\n",
        "for acoes in lista_ativos:\n",
        "  print(acoes,'é um ativo da B3')\n",
        "  if acoes == 'LREN3.SA':\n",
        "    break"
      ],
      "metadata": {
        "colab": {
          "base_uri": "https://localhost:8080/"
        },
        "id": "7zHcKdWqc9_D",
        "outputId": "a96b416b-9b84-4ccd-a6eb-ea99b11b4c89"
      },
      "execution_count": null,
      "outputs": [
        {
          "output_type": "stream",
          "name": "stdout",
          "text": [
            "PETR4.SA é um ativo da B3\n",
            "WEGE3.SA é um ativo da B3\n",
            "MGLU3.SA é um ativo da B3\n",
            "LREN3.SA é um ativo da B3\n"
          ]
        }
      ]
    },
    {
      "cell_type": "code",
      "source": [
        "for acoes in lista_ativos:\n",
        "  print(acoes,'é um ativo da B3')\n",
        "  if acoes == 'WEGE3.SA':\n",
        "    break"
      ],
      "metadata": {
        "colab": {
          "base_uri": "https://localhost:8080/"
        },
        "id": "kfYAobvYeipK",
        "outputId": "d9d6d988-8a47-4996-fdf5-9a2a44a5c5a6"
      },
      "execution_count": null,
      "outputs": [
        {
          "output_type": "stream",
          "name": "stdout",
          "text": [
            "PETR4.SA é um ativo da B3\n",
            "WEGE3.SA é um ativo da B3\n"
          ]
        }
      ]
    },
    {
      "cell_type": "code",
      "source": [
        "# dicionario\n",
        "precos ={\n",
        "    'PETR4':30,\n",
        "    'VALE3':102,\n",
        "    'WEGE3':34}"
      ],
      "metadata": {
        "id": "CBidHxmFc-Bf"
      },
      "execution_count": null,
      "outputs": []
    },
    {
      "cell_type": "code",
      "source": [
        "len(precos)"
      ],
      "metadata": {
        "colab": {
          "base_uri": "https://localhost:8080/"
        },
        "id": "Ia-figuse8-U",
        "outputId": "6c89f9c9-5136-4cbc-c45b-ad934446bdd5"
      },
      "execution_count": null,
      "outputs": [
        {
          "output_type": "execute_result",
          "data": {
            "text/plain": [
              "3"
            ]
          },
          "metadata": {},
          "execution_count": 4
        }
      ]
    },
    {
      "cell_type": "code",
      "source": [
        "# função range determina o intervalo do porto de partida e o ponto de chegada\n",
        "# determina o intervalo de 0 até o tamanho da minha lista 'len'\n",
        "\n",
        "range(0,len(precos))"
      ],
      "metadata": {
        "colab": {
          "base_uri": "https://localhost:8080/"
        },
        "id": "k8vjVs13gezK",
        "outputId": "5ddf2d15-2432-4391-e82f-e4481ffca8a9"
      },
      "execution_count": null,
      "outputs": [
        {
          "output_type": "execute_result",
          "data": {
            "text/plain": [
              "range(0, 3)"
            ]
          },
          "metadata": {},
          "execution_count": 5
        }
      ]
    },
    {
      "cell_type": "code",
      "source": [
        "# imprimir o intervalo de 0-10\n",
        "# transforma em uma lista\n",
        "\n",
        "list(range(0,10))"
      ],
      "metadata": {
        "colab": {
          "base_uri": "https://localhost:8080/"
        },
        "id": "mBzJoWnv4fDT",
        "outputId": "fd14d3a3-5469-4432-955b-95912f2c81c2"
      },
      "execution_count": null,
      "outputs": [
        {
          "output_type": "execute_result",
          "data": {
            "text/plain": [
              "[0, 1, 2, 3, 4, 5, 6, 7, 8, 9]"
            ]
          },
          "metadata": {},
          "execution_count": 10
        }
      ]
    },
    {
      "cell_type": "code",
      "source": [
        "# imprimi o tamanho do dicionario (precos), primeiro transforma em lista \n",
        "# len - tamanho \n",
        "\n",
        "list(range(0,len(precos)))"
      ],
      "metadata": {
        "colab": {
          "base_uri": "https://localhost:8080/"
        },
        "id": "GuqAkyo-48QA",
        "outputId": "9d0384c2-66aa-432d-e9cc-82ad25e1e2d0"
      },
      "execution_count": null,
      "outputs": [
        {
          "output_type": "execute_result",
          "data": {
            "text/plain": [
              "[0, 1, 2]"
            ]
          },
          "metadata": {},
          "execution_count": 11
        }
      ]
    },
    {
      "cell_type": "code",
      "source": [
        "list(precos.keys())"
      ],
      "metadata": {
        "colab": {
          "base_uri": "https://localhost:8080/"
        },
        "id": "H647o1pLfUi1",
        "outputId": "4c5c5ac9-132f-4383-cb00-71b795b96785"
      },
      "execution_count": null,
      "outputs": [
        {
          "output_type": "execute_result",
          "data": {
            "text/plain": [
              "['PETR4', 'VALE3', 'WEGE3']"
            ]
          },
          "metadata": {},
          "execution_count": 7
        }
      ]
    },
    {
      "cell_type": "code",
      "source": [
        "# indexar dicionario \n",
        "# list transforma dicionario em lista\n",
        "list(precos.keys())[0]"
      ],
      "metadata": {
        "colab": {
          "base_uri": "https://localhost:8080/",
          "height": 36
        },
        "id": "0dLsuiYs3Kb6",
        "outputId": "bb2de87f-4751-494e-a4e9-4b5976315e48"
      },
      "execution_count": null,
      "outputs": [
        {
          "output_type": "execute_result",
          "data": {
            "text/plain": [
              "'PETR4'"
            ],
            "application/vnd.google.colaboratory.intrinsic+json": {
              "type": "string"
            }
          },
          "metadata": {},
          "execution_count": 9
        }
      ]
    },
    {
      "cell_type": "code",
      "source": [
        "list(precos.values())"
      ],
      "metadata": {
        "colab": {
          "base_uri": "https://localhost:8080/"
        },
        "id": "_XZcjmmjfYTT",
        "outputId": "09661931-4089-400c-f092-3d796c6248d3"
      },
      "execution_count": null,
      "outputs": [
        {
          "output_type": "execute_result",
          "data": {
            "text/plain": [
              "[30, 102, 34]"
            ]
          },
          "metadata": {},
          "execution_count": 28
        }
      ]
    },
    {
      "cell_type": "code",
      "source": [
        "# 'i' termo generico\n",
        "# list - lista cada item 'i'\n",
        "# para cada 'i' eu imprimo as frazes conforme chave e valor\n",
        "\n",
        "for i in range(0,len(precos)):\n",
        "  print(list(precos.keys())[i],'está com o preço de',list(precos.values())[i],'neste momento .')"
      ],
      "metadata": {
        "colab": {
          "base_uri": "https://localhost:8080/"
        },
        "id": "zeN4K0MyfhfD",
        "outputId": "b6372c8f-3f8f-44ca-a5e7-247f1cd698c2"
      },
      "execution_count": null,
      "outputs": [
        {
          "output_type": "stream",
          "name": "stdout",
          "text": [
            "PETR4 está com o preço de 30 neste momento .\n",
            "VALE3 está com o preço de 102 neste momento .\n",
            "WEGE3 está com o preço de 34 neste momento .\n"
          ]
        }
      ]
    },
    {
      "cell_type": "code",
      "source": [
        "# inclusão de um novo elemento\n",
        "precos['GOAU4'] = 20"
      ],
      "metadata": {
        "id": "VbI9Zdgo3pJx"
      },
      "execution_count": null,
      "outputs": []
    },
    {
      "cell_type": "code",
      "source": [
        "precos\n"
      ],
      "metadata": {
        "colab": {
          "base_uri": "https://localhost:8080/"
        },
        "id": "s_YaE81I7xs7",
        "outputId": "5b320b52-688a-4ff6-dbfa-6b515ba67b77"
      },
      "execution_count": null,
      "outputs": [
        {
          "output_type": "execute_result",
          "data": {
            "text/plain": [
              "{'GOAU4': 20, 'PETR4': 30, 'VALE3': 102, 'WEGE3': 34}"
            ]
          },
          "metadata": {},
          "execution_count": 13
        }
      ]
    },
    {
      "cell_type": "code",
      "source": [
        "\n",
        "for i in range(0,len(precos)):\n",
        "  print(list(precos.keys())[i],'está com o preço de',list(precos.values())[i],'neste momento .')"
      ],
      "metadata": {
        "colab": {
          "base_uri": "https://localhost:8080/"
        },
        "id": "uhS3yHNV8BmC",
        "outputId": "2a383d7d-b872-420a-99c2-94ebaf182897"
      },
      "execution_count": null,
      "outputs": [
        {
          "output_type": "stream",
          "name": "stdout",
          "text": [
            "PETR4 está com o preço de 30 neste momento .\n",
            "VALE3 está com o preço de 102 neste momento .\n",
            "WEGE3 está com o preço de 34 neste momento .\n",
            "GOAU4 está com o preço de 20 neste momento .\n"
          ]
        }
      ]
    },
    {
      "cell_type": "code",
      "source": [
        "# removendo elemento do dicionario\n",
        "\n",
        "precos.pop('GOAU4')"
      ],
      "metadata": {
        "colab": {
          "base_uri": "https://localhost:8080/"
        },
        "id": "5bHo12fG9PXY",
        "outputId": "7e18cc05-6fa9-4cfa-db8a-b516910889d5"
      },
      "execution_count": null,
      "outputs": [
        {
          "output_type": "execute_result",
          "data": {
            "text/plain": [
              "20"
            ]
          },
          "metadata": {},
          "execution_count": 18
        }
      ]
    },
    {
      "cell_type": "code",
      "source": [
        "precos\n"
      ],
      "metadata": {
        "colab": {
          "base_uri": "https://localhost:8080/"
        },
        "id": "-Wl7soKV-bEf",
        "outputId": "78d5a773-7fcb-44b8-a11b-0481cd37aa4b"
      },
      "execution_count": null,
      "outputs": [
        {
          "output_type": "execute_result",
          "data": {
            "text/plain": [
              "{'PETR4': 30, 'VALE3': 102, 'WEGE3': 34}"
            ]
          },
          "metadata": {},
          "execution_count": 19
        }
      ]
    },
    {
      "cell_type": "markdown",
      "source": [
        "### While\n"
      ],
      "metadata": {
        "id": "xB5Kzhdt-nMs"
      }
    },
    {
      "cell_type": "markdown",
      "source": [
        "A estrutura do while (enquanto, em português) se refere a ougra repetição(loop) que ocorrerá enquanto a condição for verdadeira. Poderia ser pensada de uma maneira análoga ao uso do 'for' e 'if' integrados."
      ],
      "metadata": {
        "id": "yB5cslOc_gjo"
      }
    },
    {
      "cell_type": "code",
      "source": [
        "preco_weg = 30"
      ],
      "metadata": {
        "id": "YFUyGlCX_vh7"
      },
      "execution_count": null,
      "outputs": []
    },
    {
      "cell_type": "code",
      "source": [
        "# função round - arredonda o valor  ex. round(preco,2) arredondamento em duas casas\n",
        "\n",
        "while preco_weg < 39 :\n",
        "  print('Ainda não atingiu o preço algo, espere. O preço atual é: ', round (preco_weg, 2))\n",
        "  preco_weg = preco_weg * 1.01\n",
        "\n",
        "else:\n",
        "  print('Preço alvo atingido, hora de vender! Preço da venda: ' , round(preco_weg,2))"
      ],
      "metadata": {
        "colab": {
          "base_uri": "https://localhost:8080/"
        },
        "id": "70iw893F_2wj",
        "outputId": "ffdcfc7d-d8be-438d-9c3f-06d726d82f61"
      },
      "execution_count": null,
      "outputs": [
        {
          "output_type": "stream",
          "name": "stdout",
          "text": [
            "Ainda não atingiu o preço algo, espere. O preço atual é:  30\n",
            "Ainda não atingiu o preço algo, espere. O preço atual é:  30.3\n",
            "Ainda não atingiu o preço algo, espere. O preço atual é:  30.6\n",
            "Ainda não atingiu o preço algo, espere. O preço atual é:  30.91\n",
            "Ainda não atingiu o preço algo, espere. O preço atual é:  31.22\n",
            "Ainda não atingiu o preço algo, espere. O preço atual é:  31.53\n",
            "Ainda não atingiu o preço algo, espere. O preço atual é:  31.85\n",
            "Ainda não atingiu o preço algo, espere. O preço atual é:  32.16\n",
            "Ainda não atingiu o preço algo, espere. O preço atual é:  32.49\n",
            "Ainda não atingiu o preço algo, espere. O preço atual é:  32.81\n",
            "Ainda não atingiu o preço algo, espere. O preço atual é:  33.14\n",
            "Ainda não atingiu o preço algo, espere. O preço atual é:  33.47\n",
            "Ainda não atingiu o preço algo, espere. O preço atual é:  33.8\n",
            "Ainda não atingiu o preço algo, espere. O preço atual é:  34.14\n",
            "Ainda não atingiu o preço algo, espere. O preço atual é:  34.48\n",
            "Ainda não atingiu o preço algo, espere. O preço atual é:  34.83\n",
            "Ainda não atingiu o preço algo, espere. O preço atual é:  35.18\n",
            "Ainda não atingiu o preço algo, espere. O preço atual é:  35.53\n",
            "Ainda não atingiu o preço algo, espere. O preço atual é:  35.88\n",
            "Ainda não atingiu o preço algo, espere. O preço atual é:  36.24\n",
            "Ainda não atingiu o preço algo, espere. O preço atual é:  36.61\n",
            "Ainda não atingiu o preço algo, espere. O preço atual é:  36.97\n",
            "Ainda não atingiu o preço algo, espere. O preço atual é:  37.34\n",
            "Ainda não atingiu o preço algo, espere. O preço atual é:  37.71\n",
            "Ainda não atingiu o preço algo, espere. O preço atual é:  38.09\n",
            "Ainda não atingiu o preço algo, espere. O preço atual é:  38.47\n",
            "Ainda não atingiu o preço algo, espere. O preço atual é:  38.86\n",
            "Preço alvo atingido, hora de vender! Preço da venda:  39.25\n"
          ]
        }
      ]
    },
    {
      "cell_type": "markdown",
      "source": [
        "# Outro exemplo de uso do while. Imagine que tem disponível 10000 reais para investir . A cada operação, será computado o valor alocado nesta operação( chamaremos de 'investimento_unitario' e o total já investido (' investimento_total')\n",
        "* A função input interage com o usuario, recebedo um objeto (numérico, string...) e armazenamento em uma variável."
      ],
      "metadata": {
        "id": "K7VtN12yB6ti"
      }
    },
    {
      "cell_type": "code",
      "source": [
        "investimento_unitario = 0\n",
        "investimento_total = 0\n",
        "\n"
      ],
      "metadata": {
        "id": "Ao18PZIICgPf"
      },
      "execution_count": null,
      "outputs": []
    },
    {
      "cell_type": "code",
      "source": [
        "while investimento_total < 10000:\n",
        "  investimento_unitario =  int (input ('Digite o valor investido na operação: '))\n",
        "  investimento_total = investimento_total + investimento_unitario\n",
        "\n",
        "else:\n",
        "  print(' Limite total previsto para investir foi atingido! ')\n",
        "  print(' Você excedeu', investimento_total-10000, 'do valor previsto')\n",
        "\n",
        "# esse print não precisa mais do while por ter sido finalizado a condição \n",
        "\n",
        "  print(' Você investiu o total de R$', investimento_total)\n"
      ],
      "metadata": {
        "colab": {
          "base_uri": "https://localhost:8080/"
        },
        "id": "KDVS35AqDMoZ",
        "outputId": "5be98e04-fc76-4b67-cb06-91f4f391b655"
      },
      "execution_count": null,
      "outputs": [
        {
          "output_type": "stream",
          "name": "stdout",
          "text": [
            "Digite o valor investido na operação: 500\n",
            "Digite o valor investido na operação: 7000\n",
            "Digite o valor investido na operação: 9000\n",
            " Limite total previsto para investir foi atingido! \n",
            " Você excedeu 6500 do valor previsto\n",
            " Você investiu o total de R$ 16500\n"
          ]
        }
      ]
    },
    {
      "cell_type": "markdown",
      "source": [
        "## 11. Alguns outros operadores"
      ],
      "metadata": {
        "id": "PRsiBuIRFXbN"
      }
    },
    {
      "cell_type": "markdown",
      "source": [
        "Alguns operadores são muitos úteis para execução de estruturas condicionais e de repetição. Dentre eles:"
      ],
      "metadata": {
        "id": "5yiXjCbvFaQw"
      }
    },
    {
      "cell_type": "markdown",
      "source": [
        "### 11.1 Range"
      ],
      "metadata": {
        "id": "6qaiunJSFkJT"
      }
    },
    {
      "cell_type": "code",
      "source": [
        "# intervalor de 0 ( inclusivo) e 11 (exclusivo)\n",
        "# o output não lista todos os números, reduzir gastos com memória \n",
        "range(0,11)"
      ],
      "metadata": {
        "colab": {
          "base_uri": "https://localhost:8080/"
        },
        "id": "gNcPeOmmFrFg",
        "outputId": "13e760b8-1d77-46f8-9f5f-5f1d8ccf5f9b"
      },
      "execution_count": null,
      "outputs": [
        {
          "output_type": "execute_result",
          "data": {
            "text/plain": [
              "range(0, 11)"
            ]
          },
          "metadata": {},
          "execution_count": 39
        }
      ]
    },
    {
      "cell_type": "code",
      "source": [
        "# pra visualizar tem colocar dentro de uma lista\n",
        "# nesse caso, listará todos os elementos\n",
        "\n",
        "list(range(0,11))"
      ],
      "metadata": {
        "colab": {
          "base_uri": "https://localhost:8080/"
        },
        "id": "bpFFF_HEFzpM",
        "outputId": "fc9144b6-891c-47db-d0d8-24a21beb642c"
      },
      "execution_count": null,
      "outputs": [
        {
          "output_type": "execute_result",
          "data": {
            "text/plain": [
              "[0, 1, 2, 3, 4, 5, 6, 7, 8, 9, 10]"
            ]
          },
          "metadata": {},
          "execution_count": 38
        }
      ]
    },
    {
      "cell_type": "code",
      "source": [
        "# para cada i mostra o seu intervalo dentro do 'for'\n",
        "# Compreende todo o intervalo sequencial\n",
        "\n",
        "for i in range(0,11):\n",
        "  print(i)"
      ],
      "metadata": {
        "colab": {
          "base_uri": "https://localhost:8080/"
        },
        "id": "s_dmKG9iGdy7",
        "outputId": "c555e248-0ade-433f-855a-174b4b709f07"
      },
      "execution_count": null,
      "outputs": [
        {
          "output_type": "stream",
          "name": "stdout",
          "text": [
            "0\n",
            "1\n",
            "2\n",
            "3\n",
            "4\n",
            "5\n",
            "6\n",
            "7\n",
            "8\n",
            "9\n",
            "10\n"
          ]
        }
      ]
    },
    {
      "cell_type": "code",
      "source": [
        "# compreende todo o intervalo sendo de 2 em 2\n",
        "# também pode ser usado especificando um intervalo entre os números dentro  do intervalo estabelecido, similar ao slicing\n",
        "\n",
        "for i in range(0,11,2):\n",
        "  print(i)"
      ],
      "metadata": {
        "colab": {
          "base_uri": "https://localhost:8080/"
        },
        "id": "s4jbZ13AGyuL",
        "outputId": "faba3c1c-c72b-47f7-eac7-c458b9457a2d"
      },
      "execution_count": null,
      "outputs": [
        {
          "output_type": "stream",
          "name": "stdout",
          "text": [
            "0\n",
            "2\n",
            "4\n",
            "6\n",
            "8\n",
            "10\n"
          ]
        }
      ]
    },
    {
      "cell_type": "markdown",
      "source": [
        "### 11.2. Enumerate"
      ],
      "metadata": {
        "id": "7HVy1jvWHVYu"
      }
    },
    {
      "cell_type": "code",
      "source": [
        "lista_ativos = ['PETR4.SA','WEGE3.SA','MGLU3.SA','LREN3.SA','RENT3.SA','VALE3.SA']"
      ],
      "metadata": {
        "id": "N2LTDaLmHdLS"
      },
      "execution_count": null,
      "outputs": []
    },
    {
      "cell_type": "code",
      "source": [
        "# o output não enumera todos os itens, reduzindo gatos com memória\n",
        "\n",
        "enumerate(lista_ativos)"
      ],
      "metadata": {
        "colab": {
          "base_uri": "https://localhost:8080/"
        },
        "id": "7oy6ha4cHyGY",
        "outputId": "d467275a-b482-4ccc-a96e-0fe9b7873f67"
      },
      "execution_count": null,
      "outputs": [
        {
          "output_type": "execute_result",
          "data": {
            "text/plain": [
              "<enumerate at 0x7f98f1e06460>"
            ]
          },
          "metadata": {},
          "execution_count": 43
        }
      ]
    },
    {
      "cell_type": "code",
      "source": [
        "# essa função traz para cada um dos papeis elá está dando um valor\n",
        "# Nesse caso, irá enumerar todos os elementos\n",
        "\n",
        "list(enumerate(lista_ativos))"
      ],
      "metadata": {
        "colab": {
          "base_uri": "https://localhost:8080/"
        },
        "id": "OzJN0_viH7mF",
        "outputId": "c67563d7-2aa8-4d7b-ccfd-da3720e89a8c"
      },
      "execution_count": null,
      "outputs": [
        {
          "output_type": "execute_result",
          "data": {
            "text/plain": [
              "[(0, 'PETR4.SA'),\n",
              " (1, 'WEGE3.SA'),\n",
              " (2, 'MGLU3.SA'),\n",
              " (3, 'LREN3.SA'),\n",
              " (4, 'RENT3.SA'),\n",
              " (5, 'VALE3.SA')]"
            ]
          },
          "metadata": {},
          "execution_count": 44
        }
      ]
    },
    {
      "cell_type": "code",
      "source": [
        "# Se colocar um parametro vc consegue enumerar a partir deste\n",
        "\n",
        "list(enumerate(lista_ativos,3))"
      ],
      "metadata": {
        "colab": {
          "base_uri": "https://localhost:8080/"
        },
        "id": "mblIRgXDIYyR",
        "outputId": "b3d95868-9c55-4918-8f08-2544f08ae552"
      },
      "execution_count": null,
      "outputs": [
        {
          "output_type": "execute_result",
          "data": {
            "text/plain": [
              "[(3, 'PETR4.SA'),\n",
              " (4, 'WEGE3.SA'),\n",
              " (5, 'MGLU3.SA'),\n",
              " (6, 'LREN3.SA'),\n",
              " (7, 'RENT3.SA'),\n",
              " (8, 'VALE3.SA')]"
            ]
          },
          "metadata": {},
          "execution_count": 45
        }
      ]
    },
    {
      "cell_type": "code",
      "source": [
        "# enumerando string\n",
        "\n",
        "acao = 'PETR4'\n",
        "\n",
        "list(enumerate(acao))"
      ],
      "metadata": {
        "colab": {
          "base_uri": "https://localhost:8080/"
        },
        "id": "Svov84D3JFlQ",
        "outputId": "ba0ef9dc-3052-475b-c890-1d863144207a"
      },
      "execution_count": null,
      "outputs": [
        {
          "output_type": "execute_result",
          "data": {
            "text/plain": [
              "[(0, 'P'), (1, 'E'), (2, 'T'), (3, 'R'), (4, '4')]"
            ]
          },
          "metadata": {},
          "execution_count": 46
        }
      ]
    },
    {
      "cell_type": "code",
      "source": [
        "# para cada numero podemos enumerar, sendo 'i' e 'j' pode ser qualquer coisa\n",
        "# Para cada numero e cada letra é feito uma classificação enumerada \n",
        "\n",
        "for i, j in enumerate(acao):\n",
        "  print('No índice', i, 'o caractere é',j )"
      ],
      "metadata": {
        "colab": {
          "base_uri": "https://localhost:8080/"
        },
        "id": "kVjKB_ktJcpY",
        "outputId": "66b7b6da-8ec6-4afd-87b6-baedafa604ab"
      },
      "execution_count": null,
      "outputs": [
        {
          "output_type": "stream",
          "name": "stdout",
          "text": [
            "No índice 0 o caractere é P\n",
            "No índice 1 o caractere é E\n",
            "No índice 2 o caractere é T\n",
            "No índice 3 o caractere é R\n",
            "No índice 4 o caractere é 4\n"
          ]
        }
      ]
    },
    {
      "cell_type": "code",
      "source": [
        "# adicionando um contador sem utilizar o enumerate\n",
        "index_count = 0\n",
        "for i in acao:\n",
        "  print('No índice',index_count, ' o caractere é', i)\n",
        "  index_count +=1"
      ],
      "metadata": {
        "colab": {
          "base_uri": "https://localhost:8080/"
        },
        "id": "58cWd6nGKcvf",
        "outputId": "366416f3-1092-4ed2-fc70-24ad1a5ed73e"
      },
      "execution_count": null,
      "outputs": [
        {
          "output_type": "stream",
          "name": "stdout",
          "text": [
            "No índice 0  o caractere é P\n",
            "No índice 1  o caractere é E\n",
            "No índice 2  o caractere é T\n",
            "No índice 3  o caractere é R\n",
            "No índice 4  o caractere é 4\n"
          ]
        }
      ]
    },
    {
      "cell_type": "markdown",
      "source": [
        "### 11.3 Zip  & in\n"
      ],
      "metadata": {
        "id": "1IDpiaSrLjLS"
      }
    },
    {
      "cell_type": "markdown",
      "source": [
        "A função zip consegue executar interações entre listas. O operador in ( dentro/pertencente em Português) permite a leitura sequencial de  objetos zip ( assim como de listas), fundamental nas estruturas 'for'."
      ],
      "metadata": {
        "id": "eNLXgh7RLo1-"
      }
    },
    {
      "cell_type": "code",
      "source": [
        "acoes = ['PETRO4', 'WEGE3', 'MGLU3', 'JHSF3', 'GOAU4']\n",
        "setores = ['Petróleo','Motores','Varejo','Construção','Metalurgia']"
      ],
      "metadata": {
        "id": "JZy0QhD-L5-i"
      },
      "execution_count": null,
      "outputs": []
    },
    {
      "cell_type": "code",
      "source": [
        "#  o comando zip cria relações entre as duas listas\n",
        "# fazendo a junção \n",
        "# CRIAR uma relação entre as duas listas acima. Output reduzido assim como os anteriores range e enumerate\n",
        "zip(acoes,setores)"
      ],
      "metadata": {
        "colab": {
          "base_uri": "https://localhost:8080/"
        },
        "id": "D2CQPAwZMRkv",
        "outputId": "d95f429a-1b47-4bdb-f6ea-c3c214cc68e8"
      },
      "execution_count": null,
      "outputs": [
        {
          "output_type": "execute_result",
          "data": {
            "text/plain": [
              "<zip at 0x7f98f1de2eb0>"
            ]
          },
          "metadata": {},
          "execution_count": 58
        }
      ]
    },
    {
      "cell_type": "code",
      "source": [
        "# Note que é uma LISTA DE TUPLAS\n",
        "\n",
        "list(zip(acoes, setores\n",
        "         ))"
      ],
      "metadata": {
        "colab": {
          "base_uri": "https://localhost:8080/"
        },
        "id": "JVb8q5B3Mx0-",
        "outputId": "9fe5d30f-a372-4eda-92be-40794931ce26"
      },
      "execution_count": null,
      "outputs": [
        {
          "output_type": "execute_result",
          "data": {
            "text/plain": [
              "[('PETRO4', 'Petróleo'),\n",
              " ('WEGE3', 'Motores'),\n",
              " ('MGLU3', 'Varejo'),\n",
              " ('JHSF3', 'Construção'),\n",
              " ('GOAU4', 'Metalurgia')]"
            ]
          },
          "metadata": {},
          "execution_count": 57
        }
      ]
    },
    {
      "cell_type": "code",
      "source": [
        "# fazendo a integração entre as duas lista utilizando 'for'\n",
        "# Leitura sequencial do zip usando o in\n",
        "\n",
        "for acao, setor in list(zip(acoes,setores)):\n",
        "  print('O papel', acao, 'pertence ao setor', setor)"
      ],
      "metadata": {
        "colab": {
          "base_uri": "https://localhost:8080/"
        },
        "id": "4eu7rGD8NCMc",
        "outputId": "927af65c-465d-46e0-8695-9d98b35f2f25"
      },
      "execution_count": null,
      "outputs": [
        {
          "output_type": "stream",
          "name": "stdout",
          "text": [
            "O papel PETRO4 pertence ao setor Petróleo\n",
            "O papel WEGE3 pertence ao setor Motores\n",
            "O papel MGLU3 pertence ao setor Varejo\n",
            "O papel JHSF3 pertence ao setor Construção\n",
            "O papel GOAU4 pertence ao setor Metalurgia\n"
          ]
        }
      ]
    },
    {
      "cell_type": "code",
      "source": [
        "# Mostrando o operador f'', que será útil no exemplo seguinte\n",
        "# Esse operador admite que usemos variáveis dentro das aspas, desde que essas variáveis estejam por sua vez dentro\n",
        "# de chaves, como no exemplo abaixo.\n",
        "\n",
        "papel = 'PETR3'\n",
        "setor = 'Petróleo'"
      ],
      "metadata": {
        "id": "1W3zAmi1OCqn"
      },
      "execution_count": null,
      "outputs": []
    },
    {
      "cell_type": "code",
      "source": [
        "# usando o operador 'f'\n",
        "# coloca as variaveis dentro das string\n",
        "\n",
        "f'A {papel} está no setor de {setor}'\n"
      ],
      "metadata": {
        "colab": {
          "base_uri": "https://localhost:8080/",
          "height": 36
        },
        "id": "eL9085iWOMXj",
        "outputId": "f205e91d-89f1-40cb-c811-580be02967db"
      },
      "execution_count": null,
      "outputs": [
        {
          "output_type": "execute_result",
          "data": {
            "text/plain": [
              "'A PETR3 está no setor de Petróleo'"
            ],
            "application/vnd.google.colaboratory.intrinsic+json": {
              "type": "string"
            }
          },
          "metadata": {},
          "execution_count": 61
        }
      ]
    },
    {
      "cell_type": "code",
      "source": [
        "# UMA OUTRA FORMA de escrever o mesmo loop acima, desta vez usando o operador f''\n",
        "\n",
        "for acao, setor in list(zip(acoes, setores)):\n",
        "  print(f'O papel {acao} pertence ao setor {setor}')"
      ],
      "metadata": {
        "colab": {
          "base_uri": "https://localhost:8080/"
        },
        "id": "DOvHnsnXOpG9",
        "outputId": "886ad1cc-f60b-414e-c6b9-4f923a9a24f8"
      },
      "execution_count": null,
      "outputs": [
        {
          "output_type": "stream",
          "name": "stdout",
          "text": [
            "O papel PETRO4 pertence ao setor Petróleo\n",
            "O papel WEGE3 pertence ao setor Motores\n",
            "O papel MGLU3 pertence ao setor Varejo\n",
            "O papel JHSF3 pertence ao setor Construção\n",
            "O papel GOAU4 pertence ao setor Metalurgia\n"
          ]
        }
      ]
    },
    {
      "cell_type": "code",
      "source": [
        "# usando o operador lógico in \n",
        "# ALÉM da leitura sequencial, o in pode ser usado como operador lógico\n",
        "\n",
        "'VIVR3' in acoes"
      ],
      "metadata": {
        "colab": {
          "base_uri": "https://localhost:8080/"
        },
        "id": "NzUKcqtuPpoh",
        "outputId": "b3c8ddf3-f2ba-4aac-ae32-197748d37728"
      },
      "execution_count": null,
      "outputs": [
        {
          "output_type": "execute_result",
          "data": {
            "text/plain": [
              "False"
            ]
          },
          "metadata": {},
          "execution_count": 64
        }
      ]
    },
    {
      "cell_type": "code",
      "source": [
        "'WEGE3' in acoes"
      ],
      "metadata": {
        "colab": {
          "base_uri": "https://localhost:8080/"
        },
        "id": "f5NuFdy5QCqs",
        "outputId": "f80c71bd-197f-4d11-c194-78456c4baa4f"
      },
      "execution_count": null,
      "outputs": [
        {
          "output_type": "execute_result",
          "data": {
            "text/plain": [
              "True"
            ]
          },
          "metadata": {},
          "execution_count": 65
        }
      ]
    }
  ]
}